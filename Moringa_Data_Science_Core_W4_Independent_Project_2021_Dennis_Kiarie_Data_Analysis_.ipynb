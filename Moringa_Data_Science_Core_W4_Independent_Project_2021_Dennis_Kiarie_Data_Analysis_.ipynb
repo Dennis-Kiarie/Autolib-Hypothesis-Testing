{
  "nbformat": 4,
  "nbformat_minor": 0,
  "metadata": {
    "colab": {
      "name": "Moringa_Data_Science_Core_W4_Independent_Project_2021_Dennis_Kiarie_Data Analysis .ipynb",
      "provenance": [],
      "collapsed_sections": []
    },
    "kernelspec": {
      "name": "python3",
      "display_name": "Python 3"
    },
    "language_info": {
      "name": "python"
    }
  },
  "cells": [
    {
      "cell_type": "markdown",
      "metadata": {
        "id": "r1gifeKsjc7k"
      },
      "source": [
        "1. Defining the Question"
      ]
    },
    {
      "cell_type": "markdown",
      "metadata": {
        "id": "b-Senr4lk8VZ"
      },
      "source": [
        "a) Specifying the Question\n",
        "\n",
        "What is a claim in the blue cars from provided Autolib Datasets?"
      ]
    },
    {
      "cell_type": "markdown",
      "metadata": {
        "id": "6ujgv4qylDYB"
      },
      "source": [
        "b) Defining Metric of success\n",
        "\n",
        "The main objective in this analysis is to understand Electric Car Usage in a car-sharing service company.\n",
        "\n"
      ]
    },
    {
      "cell_type": "markdown",
      "metadata": {
        "id": "SlHCXBHIpjwo"
      },
      "source": [
        "In order to meet the main objective the analysis will be able to test the following claim:\n",
        "\n",
        "Null Hypothesis: The number of Blue Cars Taken is not different that of Blue Cars Returned\n",
        "\n",
        "Alternative Hypothesis:The number of Blue Cars Taken is different that of Blue Cars Returned\n",
        "\n",
        "\n",
        "\n"
      ]
    },
    {
      "cell_type": "markdown",
      "metadata": {
        "id": "lwDrqku3n7_-"
      },
      "source": [
        "c) Understanding the context\n",
        "\n",
        "Just like before, we have been tasked to understand electric car usage by solving for another research question. We will work as a Data Scientist for the Autolib electric car-sharing service company to investigate a claim about the blue cars from the provided Autolib dataset. In an effort to do this, we need to identify some areas and periods of interest via sampling stating the reason to the choice of method, then perform hypothesis testing with regards to the claim that we will have made."
      ]
    },
    {
      "cell_type": "markdown",
      "metadata": {
        "id": "qD21RL7NWQd4"
      },
      "source": [
        "d) Recording the Experimental Design\n",
        "\n",
        "Investigate a claim about the Blue Cars from the provided Autolib dataset\n",
        "\n",
        "Define research question\n",
        "\n",
        "Import Libraries\n",
        "\n",
        "Read the data\n",
        "\n",
        "Checking the data\n",
        "\n",
        "Extenal Data source validation\n",
        "\n",
        "Tidying the datasets\n",
        "\n",
        "Exploratory Analysis\n",
        "\n",
        "*   Univariate Analysis\n",
        "*   Bivariate Analysis\n",
        "\n",
        "*   Hypothesis Testing\n",
        "*   Sampling\n",
        "\n",
        "Implementing the solution\n",
        "\n",
        "Challenging the solution\n",
        "\n",
        "Follow up questions\n",
        "\n",
        "Recommendation"
      ]
    },
    {
      "cell_type": "markdown",
      "metadata": {
        "id": "0kdATstZqSQV"
      },
      "source": [
        "e) Data Relevance\n",
        "\n",
        "\n",
        "Data will be extracted from Autolib Dataset.\n",
        "\n",
        "Links which assist to retrieve the data are [http://bit.ly/DSCoreAutolibDataset] and [Link] respectively.\n"
      ]
    },
    {
      "cell_type": "markdown",
      "metadata": {
        "id": "3WVIgkGaFkQS"
      },
      "source": [
        "2. Import libraries"
      ]
    },
    {
      "cell_type": "code",
      "metadata": {
        "id": "nBCgDU5nrlLI"
      },
      "source": [
        "import numpy as np\n",
        "import pandas as pd\n",
        "import matplotlib.pyplot as plt\n",
        "%matplotlib inline\n",
        "import seaborn as sns"
      ],
      "execution_count": null,
      "outputs": []
    },
    {
      "cell_type": "markdown",
      "metadata": {
        "id": "btDZ4ZsLsrvo"
      },
      "source": [
        "3. Read the data"
      ]
    },
    {
      "cell_type": "code",
      "metadata": {
        "colab": {
          "base_uri": "https://localhost:8080/",
          "height": 451
        },
        "id": "_sgefF_Ds1d4",
        "outputId": "264a643b-9f10-4fe9-9fe1-8fdda9ab99ec"
      },
      "source": [
        "#load the datasets from the source\n",
        "url='/content/autolib_daily_events_postal_code.csv'\n",
        "\n",
        "df = pd.read_csv('/content/autolib_daily_events_postal_code.csv', sep=',\\s+', delimiter=',', encoding=\"utf-8\", skipinitialspace=True)\n",
        "\n",
        "#preview the dataset\n",
        "df"
      ],
      "execution_count": 200,
      "outputs": [
        {
          "output_type": "execute_result",
          "data": {
            "text/html": [
              "<div>\n",
              "<style scoped>\n",
              "    .dataframe tbody tr th:only-of-type {\n",
              "        vertical-align: middle;\n",
              "    }\n",
              "\n",
              "    .dataframe tbody tr th {\n",
              "        vertical-align: top;\n",
              "    }\n",
              "\n",
              "    .dataframe thead th {\n",
              "        text-align: right;\n",
              "    }\n",
              "</style>\n",
              "<table border=\"1\" class=\"dataframe\">\n",
              "  <thead>\n",
              "    <tr style=\"text-align: right;\">\n",
              "      <th></th>\n",
              "      <th>Postal code</th>\n",
              "      <th>date</th>\n",
              "      <th>n_daily_data_points</th>\n",
              "      <th>dayOfWeek</th>\n",
              "      <th>day_type</th>\n",
              "      <th>BlueCars_taken_sum</th>\n",
              "      <th>BlueCars_returned_sum</th>\n",
              "      <th>Utilib_taken_sum</th>\n",
              "      <th>Utilib_returned_sum</th>\n",
              "      <th>Utilib_14_taken_sum</th>\n",
              "      <th>Utilib_14_returned_sum</th>\n",
              "      <th>Slots_freed_sum</th>\n",
              "      <th>Slots_taken_sum</th>\n",
              "    </tr>\n",
              "  </thead>\n",
              "  <tbody>\n",
              "    <tr>\n",
              "      <th>0</th>\n",
              "      <td>75001</td>\n",
              "      <td>1/1/2018</td>\n",
              "      <td>1440</td>\n",
              "      <td>0</td>\n",
              "      <td>weekday</td>\n",
              "      <td>110</td>\n",
              "      <td>103</td>\n",
              "      <td>3</td>\n",
              "      <td>2</td>\n",
              "      <td>10</td>\n",
              "      <td>9</td>\n",
              "      <td>22</td>\n",
              "      <td>20</td>\n",
              "    </tr>\n",
              "    <tr>\n",
              "      <th>1</th>\n",
              "      <td>75001</td>\n",
              "      <td>1/2/2018</td>\n",
              "      <td>1438</td>\n",
              "      <td>1</td>\n",
              "      <td>weekday</td>\n",
              "      <td>98</td>\n",
              "      <td>94</td>\n",
              "      <td>1</td>\n",
              "      <td>1</td>\n",
              "      <td>8</td>\n",
              "      <td>8</td>\n",
              "      <td>23</td>\n",
              "      <td>22</td>\n",
              "    </tr>\n",
              "    <tr>\n",
              "      <th>2</th>\n",
              "      <td>75001</td>\n",
              "      <td>1/3/2018</td>\n",
              "      <td>1439</td>\n",
              "      <td>2</td>\n",
              "      <td>weekday</td>\n",
              "      <td>138</td>\n",
              "      <td>139</td>\n",
              "      <td>0</td>\n",
              "      <td>0</td>\n",
              "      <td>2</td>\n",
              "      <td>2</td>\n",
              "      <td>27</td>\n",
              "      <td>27</td>\n",
              "    </tr>\n",
              "    <tr>\n",
              "      <th>3</th>\n",
              "      <td>75001</td>\n",
              "      <td>1/4/2018</td>\n",
              "      <td>1320</td>\n",
              "      <td>3</td>\n",
              "      <td>weekday</td>\n",
              "      <td>104</td>\n",
              "      <td>104</td>\n",
              "      <td>2</td>\n",
              "      <td>2</td>\n",
              "      <td>9</td>\n",
              "      <td>8</td>\n",
              "      <td>25</td>\n",
              "      <td>21</td>\n",
              "    </tr>\n",
              "    <tr>\n",
              "      <th>4</th>\n",
              "      <td>75001</td>\n",
              "      <td>1/5/2018</td>\n",
              "      <td>1440</td>\n",
              "      <td>4</td>\n",
              "      <td>weekday</td>\n",
              "      <td>114</td>\n",
              "      <td>117</td>\n",
              "      <td>3</td>\n",
              "      <td>3</td>\n",
              "      <td>6</td>\n",
              "      <td>6</td>\n",
              "      <td>18</td>\n",
              "      <td>20</td>\n",
              "    </tr>\n",
              "    <tr>\n",
              "      <th>...</th>\n",
              "      <td>...</td>\n",
              "      <td>...</td>\n",
              "      <td>...</td>\n",
              "      <td>...</td>\n",
              "      <td>...</td>\n",
              "      <td>...</td>\n",
              "      <td>...</td>\n",
              "      <td>...</td>\n",
              "      <td>...</td>\n",
              "      <td>...</td>\n",
              "      <td>...</td>\n",
              "      <td>...</td>\n",
              "      <td>...</td>\n",
              "    </tr>\n",
              "    <tr>\n",
              "      <th>16080</th>\n",
              "      <td>95880</td>\n",
              "      <td>6/15/2018</td>\n",
              "      <td>1440</td>\n",
              "      <td>4</td>\n",
              "      <td>weekday</td>\n",
              "      <td>15</td>\n",
              "      <td>10</td>\n",
              "      <td>0</td>\n",
              "      <td>0</td>\n",
              "      <td>2</td>\n",
              "      <td>3</td>\n",
              "      <td>0</td>\n",
              "      <td>0</td>\n",
              "    </tr>\n",
              "    <tr>\n",
              "      <th>16081</th>\n",
              "      <td>95880</td>\n",
              "      <td>6/16/2018</td>\n",
              "      <td>1440</td>\n",
              "      <td>5</td>\n",
              "      <td>weekend</td>\n",
              "      <td>19</td>\n",
              "      <td>19</td>\n",
              "      <td>0</td>\n",
              "      <td>0</td>\n",
              "      <td>2</td>\n",
              "      <td>1</td>\n",
              "      <td>0</td>\n",
              "      <td>0</td>\n",
              "    </tr>\n",
              "    <tr>\n",
              "      <th>16082</th>\n",
              "      <td>95880</td>\n",
              "      <td>6/17/2018</td>\n",
              "      <td>1440</td>\n",
              "      <td>6</td>\n",
              "      <td>weekend</td>\n",
              "      <td>33</td>\n",
              "      <td>35</td>\n",
              "      <td>1</td>\n",
              "      <td>1</td>\n",
              "      <td>0</td>\n",
              "      <td>0</td>\n",
              "      <td>0</td>\n",
              "      <td>0</td>\n",
              "    </tr>\n",
              "    <tr>\n",
              "      <th>16083</th>\n",
              "      <td>95880</td>\n",
              "      <td>6/18/2018</td>\n",
              "      <td>1440</td>\n",
              "      <td>0</td>\n",
              "      <td>weekday</td>\n",
              "      <td>11</td>\n",
              "      <td>14</td>\n",
              "      <td>3</td>\n",
              "      <td>5</td>\n",
              "      <td>2</td>\n",
              "      <td>2</td>\n",
              "      <td>0</td>\n",
              "      <td>0</td>\n",
              "    </tr>\n",
              "    <tr>\n",
              "      <th>16084</th>\n",
              "      <td>95880</td>\n",
              "      <td>6/19/2018</td>\n",
              "      <td>1370</td>\n",
              "      <td>1</td>\n",
              "      <td>weekday</td>\n",
              "      <td>2</td>\n",
              "      <td>2</td>\n",
              "      <td>2</td>\n",
              "      <td>1</td>\n",
              "      <td>0</td>\n",
              "      <td>0</td>\n",
              "      <td>0</td>\n",
              "      <td>0</td>\n",
              "    </tr>\n",
              "  </tbody>\n",
              "</table>\n",
              "<p>16085 rows × 13 columns</p>\n",
              "</div>"
            ],
            "text/plain": [
              "       Postal code       date  ...  Slots_freed_sum  Slots_taken_sum\n",
              "0            75001   1/1/2018  ...               22               20\n",
              "1            75001   1/2/2018  ...               23               22\n",
              "2            75001   1/3/2018  ...               27               27\n",
              "3            75001   1/4/2018  ...               25               21\n",
              "4            75001   1/5/2018  ...               18               20\n",
              "...            ...        ...  ...              ...              ...\n",
              "16080        95880  6/15/2018  ...                0                0\n",
              "16081        95880  6/16/2018  ...                0                0\n",
              "16082        95880  6/17/2018  ...                0                0\n",
              "16083        95880  6/18/2018  ...                0                0\n",
              "16084        95880  6/19/2018  ...                0                0\n",
              "\n",
              "[16085 rows x 13 columns]"
            ]
          },
          "metadata": {
            "tags": []
          },
          "execution_count": 200
        }
      ]
    },
    {
      "cell_type": "markdown",
      "metadata": {
        "id": "jXodRLFStNiE"
      },
      "source": [
        "4. Checking the data"
      ]
    },
    {
      "cell_type": "code",
      "metadata": {
        "colab": {
          "base_uri": "https://localhost:8080/"
        },
        "id": "B3VRMQ-htTIf",
        "outputId": "a1b2a7d9-5160-493c-e724-a9b0523ff455"
      },
      "source": [
        "#Determine the number of Records in our dataset\n",
        "df.shape"
      ],
      "execution_count": null,
      "outputs": [
        {
          "output_type": "execute_result",
          "data": {
            "text/plain": [
              "(16085, 13)"
            ]
          },
          "metadata": {
            "tags": []
          },
          "execution_count": 19
        }
      ]
    },
    {
      "cell_type": "code",
      "metadata": {
        "colab": {
          "base_uri": "https://localhost:8080/",
          "height": 238
        },
        "id": "_0tgFTxytZId",
        "outputId": "3d51e9df-5536-427c-8f2f-8d7f30cd1dc8"
      },
      "source": [
        "#Previewing the top of our dataset\n",
        "#\n",
        "df.head()"
      ],
      "execution_count": null,
      "outputs": [
        {
          "output_type": "execute_result",
          "data": {
            "text/html": [
              "<div>\n",
              "<style scoped>\n",
              "    .dataframe tbody tr th:only-of-type {\n",
              "        vertical-align: middle;\n",
              "    }\n",
              "\n",
              "    .dataframe tbody tr th {\n",
              "        vertical-align: top;\n",
              "    }\n",
              "\n",
              "    .dataframe thead th {\n",
              "        text-align: right;\n",
              "    }\n",
              "</style>\n",
              "<table border=\"1\" class=\"dataframe\">\n",
              "  <thead>\n",
              "    <tr style=\"text-align: right;\">\n",
              "      <th></th>\n",
              "      <th>Postal code</th>\n",
              "      <th>date</th>\n",
              "      <th>n_daily_data_points</th>\n",
              "      <th>dayOfWeek</th>\n",
              "      <th>day_type</th>\n",
              "      <th>BlueCars_taken_sum</th>\n",
              "      <th>BlueCars_returned_sum</th>\n",
              "      <th>Utilib_taken_sum</th>\n",
              "      <th>Utilib_returned_sum</th>\n",
              "      <th>Utilib_14_taken_sum</th>\n",
              "      <th>Utilib_14_returned_sum</th>\n",
              "      <th>Slots_freed_sum</th>\n",
              "      <th>Slots_taken_sum</th>\n",
              "    </tr>\n",
              "  </thead>\n",
              "  <tbody>\n",
              "    <tr>\n",
              "      <th>0</th>\n",
              "      <td>75001</td>\n",
              "      <td>1/1/2018</td>\n",
              "      <td>1440</td>\n",
              "      <td>0</td>\n",
              "      <td>weekday</td>\n",
              "      <td>110</td>\n",
              "      <td>103</td>\n",
              "      <td>3</td>\n",
              "      <td>2</td>\n",
              "      <td>10</td>\n",
              "      <td>9</td>\n",
              "      <td>22</td>\n",
              "      <td>20</td>\n",
              "    </tr>\n",
              "    <tr>\n",
              "      <th>1</th>\n",
              "      <td>75001</td>\n",
              "      <td>1/2/2018</td>\n",
              "      <td>1438</td>\n",
              "      <td>1</td>\n",
              "      <td>weekday</td>\n",
              "      <td>98</td>\n",
              "      <td>94</td>\n",
              "      <td>1</td>\n",
              "      <td>1</td>\n",
              "      <td>8</td>\n",
              "      <td>8</td>\n",
              "      <td>23</td>\n",
              "      <td>22</td>\n",
              "    </tr>\n",
              "    <tr>\n",
              "      <th>2</th>\n",
              "      <td>75001</td>\n",
              "      <td>1/3/2018</td>\n",
              "      <td>1439</td>\n",
              "      <td>2</td>\n",
              "      <td>weekday</td>\n",
              "      <td>138</td>\n",
              "      <td>139</td>\n",
              "      <td>0</td>\n",
              "      <td>0</td>\n",
              "      <td>2</td>\n",
              "      <td>2</td>\n",
              "      <td>27</td>\n",
              "      <td>27</td>\n",
              "    </tr>\n",
              "    <tr>\n",
              "      <th>3</th>\n",
              "      <td>75001</td>\n",
              "      <td>1/4/2018</td>\n",
              "      <td>1320</td>\n",
              "      <td>3</td>\n",
              "      <td>weekday</td>\n",
              "      <td>104</td>\n",
              "      <td>104</td>\n",
              "      <td>2</td>\n",
              "      <td>2</td>\n",
              "      <td>9</td>\n",
              "      <td>8</td>\n",
              "      <td>25</td>\n",
              "      <td>21</td>\n",
              "    </tr>\n",
              "    <tr>\n",
              "      <th>4</th>\n",
              "      <td>75001</td>\n",
              "      <td>1/5/2018</td>\n",
              "      <td>1440</td>\n",
              "      <td>4</td>\n",
              "      <td>weekday</td>\n",
              "      <td>114</td>\n",
              "      <td>117</td>\n",
              "      <td>3</td>\n",
              "      <td>3</td>\n",
              "      <td>6</td>\n",
              "      <td>6</td>\n",
              "      <td>18</td>\n",
              "      <td>20</td>\n",
              "    </tr>\n",
              "  </tbody>\n",
              "</table>\n",
              "</div>"
            ],
            "text/plain": [
              "   Postal code      date  ...  Slots_freed_sum  Slots_taken_sum\n",
              "0        75001  1/1/2018  ...               22               20\n",
              "1        75001  1/2/2018  ...               23               22\n",
              "2        75001  1/3/2018  ...               27               27\n",
              "3        75001  1/4/2018  ...               25               21\n",
              "4        75001  1/5/2018  ...               18               20\n",
              "\n",
              "[5 rows x 13 columns]"
            ]
          },
          "metadata": {
            "tags": []
          },
          "execution_count": 20
        }
      ]
    },
    {
      "cell_type": "code",
      "metadata": {
        "colab": {
          "base_uri": "https://localhost:8080/",
          "height": 238
        },
        "id": "saThuqKftfQ3",
        "outputId": "b1ee5ee6-54f8-4adc-be45-632525d52206"
      },
      "source": [
        "# Previewing the bottom of our dataset\n",
        "df.tail()"
      ],
      "execution_count": null,
      "outputs": [
        {
          "output_type": "execute_result",
          "data": {
            "text/html": [
              "<div>\n",
              "<style scoped>\n",
              "    .dataframe tbody tr th:only-of-type {\n",
              "        vertical-align: middle;\n",
              "    }\n",
              "\n",
              "    .dataframe tbody tr th {\n",
              "        vertical-align: top;\n",
              "    }\n",
              "\n",
              "    .dataframe thead th {\n",
              "        text-align: right;\n",
              "    }\n",
              "</style>\n",
              "<table border=\"1\" class=\"dataframe\">\n",
              "  <thead>\n",
              "    <tr style=\"text-align: right;\">\n",
              "      <th></th>\n",
              "      <th>Postal code</th>\n",
              "      <th>date</th>\n",
              "      <th>n_daily_data_points</th>\n",
              "      <th>dayOfWeek</th>\n",
              "      <th>day_type</th>\n",
              "      <th>BlueCars_taken_sum</th>\n",
              "      <th>BlueCars_returned_sum</th>\n",
              "      <th>Utilib_taken_sum</th>\n",
              "      <th>Utilib_returned_sum</th>\n",
              "      <th>Utilib_14_taken_sum</th>\n",
              "      <th>Utilib_14_returned_sum</th>\n",
              "      <th>Slots_freed_sum</th>\n",
              "      <th>Slots_taken_sum</th>\n",
              "    </tr>\n",
              "  </thead>\n",
              "  <tbody>\n",
              "    <tr>\n",
              "      <th>16080</th>\n",
              "      <td>95880</td>\n",
              "      <td>6/15/2018</td>\n",
              "      <td>1440</td>\n",
              "      <td>4</td>\n",
              "      <td>weekday</td>\n",
              "      <td>15</td>\n",
              "      <td>10</td>\n",
              "      <td>0</td>\n",
              "      <td>0</td>\n",
              "      <td>2</td>\n",
              "      <td>3</td>\n",
              "      <td>0</td>\n",
              "      <td>0</td>\n",
              "    </tr>\n",
              "    <tr>\n",
              "      <th>16081</th>\n",
              "      <td>95880</td>\n",
              "      <td>6/16/2018</td>\n",
              "      <td>1440</td>\n",
              "      <td>5</td>\n",
              "      <td>weekend</td>\n",
              "      <td>19</td>\n",
              "      <td>19</td>\n",
              "      <td>0</td>\n",
              "      <td>0</td>\n",
              "      <td>2</td>\n",
              "      <td>1</td>\n",
              "      <td>0</td>\n",
              "      <td>0</td>\n",
              "    </tr>\n",
              "    <tr>\n",
              "      <th>16082</th>\n",
              "      <td>95880</td>\n",
              "      <td>6/17/2018</td>\n",
              "      <td>1440</td>\n",
              "      <td>6</td>\n",
              "      <td>weekend</td>\n",
              "      <td>33</td>\n",
              "      <td>35</td>\n",
              "      <td>1</td>\n",
              "      <td>1</td>\n",
              "      <td>0</td>\n",
              "      <td>0</td>\n",
              "      <td>0</td>\n",
              "      <td>0</td>\n",
              "    </tr>\n",
              "    <tr>\n",
              "      <th>16083</th>\n",
              "      <td>95880</td>\n",
              "      <td>6/18/2018</td>\n",
              "      <td>1440</td>\n",
              "      <td>0</td>\n",
              "      <td>weekday</td>\n",
              "      <td>11</td>\n",
              "      <td>14</td>\n",
              "      <td>3</td>\n",
              "      <td>5</td>\n",
              "      <td>2</td>\n",
              "      <td>2</td>\n",
              "      <td>0</td>\n",
              "      <td>0</td>\n",
              "    </tr>\n",
              "    <tr>\n",
              "      <th>16084</th>\n",
              "      <td>95880</td>\n",
              "      <td>6/19/2018</td>\n",
              "      <td>1370</td>\n",
              "      <td>1</td>\n",
              "      <td>weekday</td>\n",
              "      <td>2</td>\n",
              "      <td>2</td>\n",
              "      <td>2</td>\n",
              "      <td>1</td>\n",
              "      <td>0</td>\n",
              "      <td>0</td>\n",
              "      <td>0</td>\n",
              "      <td>0</td>\n",
              "    </tr>\n",
              "  </tbody>\n",
              "</table>\n",
              "</div>"
            ],
            "text/plain": [
              "       Postal code       date  ...  Slots_freed_sum  Slots_taken_sum\n",
              "16080        95880  6/15/2018  ...                0                0\n",
              "16081        95880  6/16/2018  ...                0                0\n",
              "16082        95880  6/17/2018  ...                0                0\n",
              "16083        95880  6/18/2018  ...                0                0\n",
              "16084        95880  6/19/2018  ...                0                0\n",
              "\n",
              "[5 rows x 13 columns]"
            ]
          },
          "metadata": {
            "tags": []
          },
          "execution_count": 21
        }
      ]
    },
    {
      "cell_type": "code",
      "metadata": {
        "colab": {
          "base_uri": "https://localhost:8080/"
        },
        "id": "fOP0-xE9toSY",
        "outputId": "383a4c55-992c-4f6b-8d44-b4fe2539514c"
      },
      "source": [
        "#Checking whether each column has an appropriate datatype\n",
        "df.dtypes"
      ],
      "execution_count": null,
      "outputs": [
        {
          "output_type": "execute_result",
          "data": {
            "text/plain": [
              "Postal code                int64\n",
              "date                      object\n",
              "n_daily_data_points        int64\n",
              "dayOfWeek                  int64\n",
              "day_type                  object\n",
              "BlueCars_taken_sum         int64\n",
              "BlueCars_returned_sum      int64\n",
              "Utilib_taken_sum           int64\n",
              "Utilib_returned_sum        int64\n",
              "Utilib_14_taken_sum        int64\n",
              "Utilib_14_returned_sum     int64\n",
              "Slots_freed_sum            int64\n",
              "Slots_taken_sum            int64\n",
              "dtype: object"
            ]
          },
          "metadata": {
            "tags": []
          },
          "execution_count": 22
        }
      ]
    },
    {
      "cell_type": "markdown",
      "metadata": {
        "id": "6xwmjDlot3OS"
      },
      "source": [
        "5.External Data Source Validation"
      ]
    },
    {
      "cell_type": "markdown",
      "metadata": {
        "id": "1dAoye-NuDAb"
      },
      "source": [
        "6.Tidying the datasets"
      ]
    },
    {
      "cell_type": "code",
      "metadata": {
        "id": "-ULLn-Q4tyx5",
        "colab": {
          "base_uri": "https://localhost:8080/"
        },
        "outputId": "e0d4ef96-870d-4aa2-c98c-a94a164565a4"
      },
      "source": [
        "#Rename the column names\n",
        "\n",
        "df2=df.rename(columns = {'Postal code': 'POSTAL_CODE','date':'DATE','n_daily_data_points': 'DATA_POINTS' ,'dayOfWeek':'DAY', 'day_type':'DAY_TYPE','BlueCars_taken_sum':'BLUECARS_TAKEN', 'BlueCars_returned_sum':'BLUECARS_RETURNED', 'Utilib_taken_sum':'UTILIB_TAKEN','Utilib_returned_sum':'UTILIB_RETURNED','Utilib_14_taken_sum':'UTILIB1.4_TAKEN','Utilib_14_returned_sum':'UTILIB1.4_RETURNED','Slots_freed_sum':'SLOTS_FREED','Slots_taken_sum':'SLOTS_TAKEN'},inplace = False)\n",
        "\n",
        "#Preview the dataset columns\n",
        "df2.columns"
      ],
      "execution_count": 243,
      "outputs": [
        {
          "output_type": "execute_result",
          "data": {
            "text/plain": [
              "Index(['POSTAL_CODE', 'DATE', 'DATA_POINTS', 'DAY', 'DAY_TYPE',\n",
              "       'BLUECARS_TAKEN', 'BLUECARS_RETURNED', 'UTILIB_TAKEN',\n",
              "       'UTILIB_RETURNED', 'UTILIB1.4_TAKEN', 'UTILIB1.4_RETURNED',\n",
              "       'SLOTS_FREED', 'SLOTS_TAKEN'],\n",
              "      dtype='object')"
            ]
          },
          "metadata": {
            "tags": []
          },
          "execution_count": 243
        }
      ]
    },
    {
      "cell_type": "code",
      "metadata": {
        "colab": {
          "base_uri": "https://localhost:8080/"
        },
        "id": "F0CJ9tJWwVov",
        "outputId": "0ca623e7-e14e-4a31-addc-020d92e254cb"
      },
      "source": [
        "#convert column to datetime\n",
        "\n",
        "df2['DATE'] = pd.to_datetime(df2['DATE'])\n",
        "\n",
        "#preview date column\n",
        "df2['DATE'] "
      ],
      "execution_count": 208,
      "outputs": [
        {
          "output_type": "execute_result",
          "data": {
            "text/plain": [
              "0       2018-01-01\n",
              "1       2018-01-02\n",
              "2       2018-01-03\n",
              "3       2018-01-04\n",
              "4       2018-01-05\n",
              "           ...    \n",
              "16080   2018-06-15\n",
              "16081   2018-06-16\n",
              "16082   2018-06-17\n",
              "16083   2018-06-18\n",
              "16084   2018-06-19\n",
              "Name: DATE, Length: 16085, dtype: datetime64[ns]"
            ]
          },
          "metadata": {
            "tags": []
          },
          "execution_count": 208
        }
      ]
    },
    {
      "cell_type": "code",
      "metadata": {
        "colab": {
          "base_uri": "https://localhost:8080/",
          "height": 1000
        },
        "id": "v8ppBQpsAfZz",
        "outputId": "0ed60e73-0db4-48aa-c7a2-729f1a9b1cb6"
      },
      "source": [
        "#check for outliers \n",
        "fig, (ax1, ax2, ax3,ax4,ax5,ax6,ax7,ax8,ax9)= plt.subplots(9, figsize=(13,32))\n",
        "fig.suptitle('Boxplots')\n",
        "sns.boxplot(df2['DATA_POINTS'], ax=ax1)\n",
        "sns.boxplot(df2['BLUECARS_TAKEN'], ax=ax2)\n",
        "sns.boxplot(df2['BLUECARS_RETURNED'], ax=ax3)\n",
        "sns.boxplot(df2['UTILIB_TAKEN'], ax=ax4)\n",
        "sns.boxplot(df2['UTILIB_RETURNED'], ax=ax5)\n",
        "sns.boxplot(df2['UTILIB1.4_TAKEN'], ax=ax6)\n",
        "sns.boxplot(df2['UTILIB1.4_RETURNED'], ax=ax7)\n",
        "sns.boxplot(df2['SLOTS_FREED'], ax=ax8)\n",
        "sns.boxplot(df2['SLOTS_TAKEN'], ax=ax9)\n",
        "plt.show()"
      ],
      "execution_count": null,
      "outputs": [
        {
          "output_type": "stream",
          "text": [
            "/usr/local/lib/python3.7/dist-packages/seaborn/_decorators.py:43: FutureWarning: Pass the following variable as a keyword arg: x. From version 0.12, the only valid positional argument will be `data`, and passing other arguments without an explicit keyword will result in an error or misinterpretation.\n",
            "  FutureWarning\n",
            "/usr/local/lib/python3.7/dist-packages/seaborn/_decorators.py:43: FutureWarning: Pass the following variable as a keyword arg: x. From version 0.12, the only valid positional argument will be `data`, and passing other arguments without an explicit keyword will result in an error or misinterpretation.\n",
            "  FutureWarning\n",
            "/usr/local/lib/python3.7/dist-packages/seaborn/_decorators.py:43: FutureWarning: Pass the following variable as a keyword arg: x. From version 0.12, the only valid positional argument will be `data`, and passing other arguments without an explicit keyword will result in an error or misinterpretation.\n",
            "  FutureWarning\n",
            "/usr/local/lib/python3.7/dist-packages/seaborn/_decorators.py:43: FutureWarning: Pass the following variable as a keyword arg: x. From version 0.12, the only valid positional argument will be `data`, and passing other arguments without an explicit keyword will result in an error or misinterpretation.\n",
            "  FutureWarning\n",
            "/usr/local/lib/python3.7/dist-packages/seaborn/_decorators.py:43: FutureWarning: Pass the following variable as a keyword arg: x. From version 0.12, the only valid positional argument will be `data`, and passing other arguments without an explicit keyword will result in an error or misinterpretation.\n",
            "  FutureWarning\n",
            "/usr/local/lib/python3.7/dist-packages/seaborn/_decorators.py:43: FutureWarning: Pass the following variable as a keyword arg: x. From version 0.12, the only valid positional argument will be `data`, and passing other arguments without an explicit keyword will result in an error or misinterpretation.\n",
            "  FutureWarning\n",
            "/usr/local/lib/python3.7/dist-packages/seaborn/_decorators.py:43: FutureWarning: Pass the following variable as a keyword arg: x. From version 0.12, the only valid positional argument will be `data`, and passing other arguments without an explicit keyword will result in an error or misinterpretation.\n",
            "  FutureWarning\n",
            "/usr/local/lib/python3.7/dist-packages/seaborn/_decorators.py:43: FutureWarning: Pass the following variable as a keyword arg: x. From version 0.12, the only valid positional argument will be `data`, and passing other arguments without an explicit keyword will result in an error or misinterpretation.\n",
            "  FutureWarning\n",
            "/usr/local/lib/python3.7/dist-packages/seaborn/_decorators.py:43: FutureWarning: Pass the following variable as a keyword arg: x. From version 0.12, the only valid positional argument will be `data`, and passing other arguments without an explicit keyword will result in an error or misinterpretation.\n",
            "  FutureWarning\n"
          ],
          "name": "stderr"
        },
        {
          "output_type": "display_data",
          "data": {
            "image/png": "[encoded data removed]",
            "text/plain": [
              "<Figure size 936x2304 with 9 Axes>"
            ]
          },
          "metadata": {
            "tags": [],
            "needs_background": "light"
          }
        }
      ]
    },
    {
      "cell_type": "code",
      "metadata": {
        "colab": {
          "base_uri": "https://localhost:8080/"
        },
        "id": "Oh5-p4N4Eoa-",
        "outputId": "a8249b98-557e-4361-e891-65c00e035417"
      },
      "source": [
        "#checking for anomalies\n",
        "\n",
        "#Checking outliers\n",
        "\n",
        "# quantiles\n",
        "Q1 = df.quantile(0.25)\n",
        "Q3 = df.quantile(0.75)\n",
        "IQR = Q3 - Q1\n",
        "\n",
        "# Removing outliers based on the IQR range \n",
        "# \n",
        "df2 = df[~((df < (Q1 - 1.5 * IQR)) | (df > (Q3 + 1.5 * IQR))).any(axis=1)]\n",
        "\n",
        "# Printing the shape of our new dataset\n",
        "# \n",
        "print(df2.shape)\n",
        "\n",
        "# Printing the shape of our old dataset\n",
        "#\n",
        "print(df.shape)"
      ],
      "execution_count": 244,
      "outputs": [
        {
          "output_type": "stream",
          "text": [
            "(9783, 13)\n",
            "(16085, 13)\n"
          ],
          "name": "stdout"
        }
      ]
    },
    {
      "cell_type": "code",
      "metadata": {
        "colab": {
          "base_uri": "https://localhost:8080/"
        },
        "id": "ekP-0CWiIBRJ",
        "outputId": "1c401f26-515f-4ec4-afc8-35fd7950ed4a"
      },
      "source": [
        "#check for duplicates\n",
        "df2.duplicated().sum()"
      ],
      "execution_count": 190,
      "outputs": [
        {
          "output_type": "execute_result",
          "data": {
            "text/plain": [
              "0"
            ]
          },
          "metadata": {
            "tags": []
          },
          "execution_count": 190
        }
      ]
    },
    {
      "cell_type": "code",
      "metadata": {
        "colab": {
          "base_uri": "https://localhost:8080/"
        },
        "id": "QhweeD0sIWXs",
        "outputId": "e9ea44d3-9616-40f8-e2ce-e95b3a851bdf"
      },
      "source": [
        "# Check for unique values in each column\n",
        "for col in df2.columns.to_list():\n",
        "  print(f'{col} column unique values: \\n')\n",
        "  print(df2[col].unique(), end='\\n')\n",
        "  print('**********')\n",
        "  print('\\n')"
      ],
      "execution_count": null,
      "outputs": [
        {
          "output_type": "stream",
          "text": [
            "POSTAL_CODE column unique values: \n",
            "\n",
            "[75001 75002 75003 75004 75005 75006 75007 75008 75009 75010 75011 75012\n",
            " 75013 75014 75015 75016 75017 75018 75019 75020 75112 75116 78000 78140\n",
            " 78150 91330 91370 91400 92000 92100 92110 92120 92130 92140 92150 92160\n",
            " 92170 92190 92200 92210 92220 92230 92240 92250 92260 92270 92290 92300\n",
            " 92310 92320 92330 92340 92350 92360 92370 92380 92390 92400 92410 92420\n",
            " 92500 92600 92700 92800 93100 93110 93130 93150 93170 93200 93230 93260\n",
            " 93300 93310 93350 93360 93370 93390 93400 93440 93500 93600 93700 93800\n",
            " 94000 94100 94110 94120 94130 94140 94150 94160 94220 94230 94300 94340\n",
            " 94410 94450 94500 94700 94800 95100 95870 95880]\n",
            "**********\n",
            "\n",
            "\n",
            "DATE column unique values: \n",
            "\n",
            "['2018-01-01T00:00:00.000000000' '2018-01-02T00:00:00.000000000'\n",
            " '2018-01-03T00:00:00.000000000' '2018-01-04T00:00:00.000000000'\n",
            " '2018-01-05T00:00:00.000000000' '2018-01-06T00:00:00.000000000'\n",
            " '2018-01-07T00:00:00.000000000' '2018-01-08T00:00:00.000000000'\n",
            " '2018-01-09T00:00:00.000000000' '2018-01-10T00:00:00.000000000'\n",
            " '2018-01-11T00:00:00.000000000' '2018-01-12T00:00:00.000000000'\n",
            " '2018-01-13T00:00:00.000000000' '2018-01-14T00:00:00.000000000'\n",
            " '2018-01-15T00:00:00.000000000' '2018-01-16T00:00:00.000000000'\n",
            " '2018-01-17T00:00:00.000000000' '2018-01-18T00:00:00.000000000'\n",
            " '2018-01-19T00:00:00.000000000' '2018-01-20T00:00:00.000000000'\n",
            " '2018-01-21T00:00:00.000000000' '2018-01-22T00:00:00.000000000'\n",
            " '2018-01-23T00:00:00.000000000' '2018-01-24T00:00:00.000000000'\n",
            " '2018-01-25T00:00:00.000000000' '2018-01-26T00:00:00.000000000'\n",
            " '2018-01-27T00:00:00.000000000' '2018-01-28T00:00:00.000000000'\n",
            " '2018-01-29T00:00:00.000000000' '2018-01-30T00:00:00.000000000'\n",
            " '2018-01-31T00:00:00.000000000' '2018-02-01T00:00:00.000000000'\n",
            " '2018-02-02T00:00:00.000000000' '2018-02-03T00:00:00.000000000'\n",
            " '2018-02-04T00:00:00.000000000' '2018-02-05T00:00:00.000000000'\n",
            " '2018-02-06T00:00:00.000000000' '2018-02-07T00:00:00.000000000'\n",
            " '2018-02-08T00:00:00.000000000' '2018-02-09T00:00:00.000000000'\n",
            " '2018-02-10T00:00:00.000000000' '2018-02-11T00:00:00.000000000'\n",
            " '2018-02-12T00:00:00.000000000' '2018-02-13T00:00:00.000000000'\n",
            " '2018-02-14T00:00:00.000000000' '2018-02-15T00:00:00.000000000'\n",
            " '2018-02-16T00:00:00.000000000' '2018-02-17T00:00:00.000000000'\n",
            " '2018-02-18T00:00:00.000000000' '2018-02-19T00:00:00.000000000'\n",
            " '2018-02-20T00:00:00.000000000' '2018-02-21T00:00:00.000000000'\n",
            " '2018-02-22T00:00:00.000000000' '2018-02-23T00:00:00.000000000'\n",
            " '2018-02-24T00:00:00.000000000' '2018-02-28T00:00:00.000000000'\n",
            " '2018-03-01T00:00:00.000000000' '2018-03-02T00:00:00.000000000'\n",
            " '2018-03-03T00:00:00.000000000' '2018-03-04T00:00:00.000000000'\n",
            " '2018-03-05T00:00:00.000000000' '2018-03-06T00:00:00.000000000'\n",
            " '2018-03-07T00:00:00.000000000' '2018-03-08T00:00:00.000000000'\n",
            " '2018-03-09T00:00:00.000000000' '2018-03-10T00:00:00.000000000'\n",
            " '2018-03-11T00:00:00.000000000' '2018-03-12T00:00:00.000000000'\n",
            " '2018-03-13T00:00:00.000000000' '2018-03-14T00:00:00.000000000'\n",
            " '2018-03-15T00:00:00.000000000' '2018-03-16T00:00:00.000000000'\n",
            " '2018-03-17T00:00:00.000000000' '2018-03-18T00:00:00.000000000'\n",
            " '2018-03-19T00:00:00.000000000' '2018-03-20T00:00:00.000000000'\n",
            " '2018-03-21T00:00:00.000000000' '2018-03-22T00:00:00.000000000'\n",
            " '2018-03-23T00:00:00.000000000' '2018-03-24T00:00:00.000000000'\n",
            " '2018-03-25T00:00:00.000000000' '2018-03-26T00:00:00.000000000'\n",
            " '2018-03-27T00:00:00.000000000' '2018-03-28T00:00:00.000000000'\n",
            " '2018-03-29T00:00:00.000000000' '2018-03-30T00:00:00.000000000'\n",
            " '2018-03-31T00:00:00.000000000' '2018-04-01T00:00:00.000000000'\n",
            " '2018-04-02T00:00:00.000000000' '2018-04-03T00:00:00.000000000'\n",
            " '2018-04-04T00:00:00.000000000' '2018-04-05T00:00:00.000000000'\n",
            " '2018-04-06T00:00:00.000000000' '2018-04-07T00:00:00.000000000'\n",
            " '2018-04-08T00:00:00.000000000' '2018-04-09T00:00:00.000000000'\n",
            " '2018-04-10T00:00:00.000000000' '2018-04-11T00:00:00.000000000'\n",
            " '2018-04-12T00:00:00.000000000' '2018-04-13T00:00:00.000000000'\n",
            " '2018-04-14T00:00:00.000000000' '2018-04-15T00:00:00.000000000'\n",
            " '2018-04-16T00:00:00.000000000' '2018-04-17T00:00:00.000000000'\n",
            " '2018-04-18T00:00:00.000000000' '2018-04-19T00:00:00.000000000'\n",
            " '2018-04-20T00:00:00.000000000' '2018-04-21T00:00:00.000000000'\n",
            " '2018-04-22T00:00:00.000000000' '2018-04-23T00:00:00.000000000'\n",
            " '2018-04-24T00:00:00.000000000' '2018-04-25T00:00:00.000000000'\n",
            " '2018-04-26T00:00:00.000000000' '2018-04-27T00:00:00.000000000'\n",
            " '2018-04-28T00:00:00.000000000' '2018-04-29T00:00:00.000000000'\n",
            " '2018-04-30T00:00:00.000000000' '2018-05-01T00:00:00.000000000'\n",
            " '2018-05-02T00:00:00.000000000' '2018-05-03T00:00:00.000000000'\n",
            " '2018-05-04T00:00:00.000000000' '2018-05-05T00:00:00.000000000'\n",
            " '2018-05-06T00:00:00.000000000' '2018-05-07T00:00:00.000000000'\n",
            " '2018-05-08T00:00:00.000000000' '2018-05-20T00:00:00.000000000'\n",
            " '2018-05-21T00:00:00.000000000' '2018-05-22T00:00:00.000000000'\n",
            " '2018-05-23T00:00:00.000000000' '2018-05-24T00:00:00.000000000'\n",
            " '2018-05-25T00:00:00.000000000' '2018-05-26T00:00:00.000000000'\n",
            " '2018-05-27T00:00:00.000000000' '2018-05-28T00:00:00.000000000'\n",
            " '2018-05-29T00:00:00.000000000' '2018-05-30T00:00:00.000000000'\n",
            " '2018-05-31T00:00:00.000000000' '2018-06-01T00:00:00.000000000'\n",
            " '2018-06-02T00:00:00.000000000' '2018-06-03T00:00:00.000000000'\n",
            " '2018-06-04T00:00:00.000000000' '2018-06-05T00:00:00.000000000'\n",
            " '2018-06-06T00:00:00.000000000' '2018-06-07T00:00:00.000000000'\n",
            " '2018-06-08T00:00:00.000000000' '2018-06-09T00:00:00.000000000'\n",
            " '2018-06-10T00:00:00.000000000' '2018-06-11T00:00:00.000000000'\n",
            " '2018-06-12T00:00:00.000000000' '2018-06-13T00:00:00.000000000'\n",
            " '2018-06-14T00:00:00.000000000' '2018-06-15T00:00:00.000000000'\n",
            " '2018-06-16T00:00:00.000000000' '2018-06-17T00:00:00.000000000'\n",
            " '2018-06-18T00:00:00.000000000' '2018-06-19T00:00:00.000000000']\n",
            "**********\n",
            "\n",
            "\n",
            "DATA_POINTS column unique values: \n",
            "\n",
            "[1440 1438 1439 1320 1437 1434 1398 1420 1425 1396 1429 1389 1380 1364\n",
            " 1318 1377 1203 1417 1435 1174 1436 1411 1370]\n",
            "**********\n",
            "\n",
            "\n",
            "DAY column unique values: \n",
            "\n",
            "[0 1 2 3 4 5 6]\n",
            "**********\n",
            "\n",
            "\n",
            "DAY_TYPE column unique values: \n",
            "\n",
            "['weekday' 'weekend']\n",
            "**********\n",
            "\n",
            "\n",
            "BLUECARS_TAKEN column unique values: \n",
            "\n",
            "[ 110   98  138  104  114  187  180   84   81   88  125  126  224  193\n",
            "  107  116  118  122  130  217  143  123  112  108  145  216  190   83\n",
            "  103  146  199  186  121  113  109  207  160  115   94   99  119  176\n",
            "  157   85  100  135    8   92  127  136  192  168  102  134  197  173\n",
            "  131  196  150  156  231  105  219  179  124  188  139   97  120  159\n",
            "  147  151  129  152  142  141  202  175   96  133  254  137  185  203\n",
            "    6  166  165  243  264  213  164  163  191  276  210  183  148  270\n",
            "  128  280  178  153  158  259  161  240   12  181  140  263  167  177\n",
            "  250  208  171  266  155  247  154  184  293  228  182  144  218  162\n",
            "  239  200  170  174  172  245    5  195  237  331  283  212  211  380\n",
            "  356  233  220  238  384  313  229  221  201  350  327  223  226  234\n",
            "  262  361  335  205  198  346  303  236  341  277  206   25  230  330\n",
            "  286  265  251  412  340  227  357  319  189  375  326  311  284  255\n",
            "  209  215  323  256  204  214  382  315  310  333  260  297  258  241\n",
            "  235  349  305  290  275  194  307  328  242  308  279  288  320  273\n",
            "  261  169  344  334  291  294  278  287  149  370   18  257  397  365\n",
            "  298  299  321  490  427  269  451  363  339  317  416  449  296  306\n",
            "  475  348  446  343  324  304  342  355  267   37  253  401  407  396\n",
            "  282  281  271  395  345  325  292  369  232  318  309  300  314  373\n",
            "  302  377  353  312  347  268  403  364  289  252  301  376   29  405\n",
            "  366  225   24  421  244  391  272  246  222  248  374  387  359   13\n",
            "  249  336  337  274  372  394  379  411  354  295   20  368  285  322\n",
            "  409  358  360  400  393  332  386  422  430  426  442  398  415  525\n",
            "  471  455  458  462  551  520  452  453  467  487  428  482  495  435\n",
            "  464  480  417  577  437  418  489  431  383  414  399   26  425  419\n",
            "  447  459  505  463  424  468  491  492  476  473  423  433  494  516\n",
            "  338  478  497  469  465  537  479  474  524  413  371  466  432  434\n",
            "  316  450  589  501  528  533  484  460  521  518  486  488  485  500\n",
            "   21  378  503  367   27  329  385  457  352  351  381  420  390  477\n",
            "  440  461  443  388   56  438  441  402  408  406   16  499  688  557\n",
            "  738  599  445  714  613  404  679  529  456  702  598  654  602  534\n",
            "  563   69  444  483  737  655  594  697  536  612  579  507  658  593\n",
            "  454  584  362  436  552  472  481  470  539  648  569  581  631  561\n",
            "  540  576  496  696  554  389   49  502  605  634  515  764  673  535\n",
            "  735  666  690  642  448  549  816  609  672  617  541  724   46  439\n",
            "  614  519  661  645  514  637  410  710  590  506  610  623  493  703\n",
            "  542  657  713  504  585  580  517  727  708  680  687  550  734  636\n",
            "  624  722  659  616  767  647  508  575  725  684  792  646  682  523\n",
            "  618  660  649  543   36  513  733  695  544  681  511  643  532  700\n",
            "  652  498  510  603  560  664  555  568  651  526  564  538  800  709\n",
            "  556  826  747  567  573  662   30  429  677  640  611  712  650  559\n",
            "  625   39  632  620  546  586  601  592  698  678  653  691  781  739\n",
            "  669  852 1061  913  694  791  810  881 1255 1097  753  885  831  950\n",
            " 1352 1132  751  718  784  871  963 1248 1014  721  732  880  942 1327\n",
            " 1043  808  794 1118 1036  723  874  872  943 1144 1037  757  765  827\n",
            "   58  897 1136  999  829  805  790  907 1127 1038  766  811  818  898\n",
            " 1209  980  746  819  813  946 1186  981  797  884  833  867 1024  939\n",
            "  839  756  926  893  875 1277 1082  887  962  955 1005 1002  774  936\n",
            " 1023  925  984  899  877  857  865  773  944 1155 1016  840  931  856\n",
            "  938 1335 1152  861  888  985  932 1089 1338 1164  864  994 1032  968\n",
            " 1087 1330  973  920 1093 1001  693  638  741  847  842  668  768  715\n",
            "  835  918  786  728  908 1062  989  796 1069  795 1065  905  760  755\n",
            "  630  982  665  843  824  953  583  748  719  772  770  683  814 1003\n",
            "  853  793  830  804  783 1015  854  780  987  628  825  799  787  777\n",
            "  817  789 1020  894  761  850  919  686  729  606  731  742  801 1088\n",
            "  758  812  745  912  978  866  862  860  917  846 1080  802  837  832\n",
            "  890 1006  901  844  909  988  845  548  553  705  928  692  776  992\n",
            "  701  945  635  929  716  754  706  644  873  803  604   51  629  740\n",
            "  782  991  785  806  763  736  977  834  762  798  720  868  752  667\n",
            "  809  974  707  744  749  923  859   38  392  547  587  566  530   48\n",
            "  596  582  562  588  591  522  730  704  670  627   55  676  531  622\n",
            "  639  545  527   31  619  615  633  571   47  512  600  626  558    7\n",
            "   11    3    4   10    9   14   17   19    0    2   15    1   23   71\n",
            "   43   35   68   67   28   64   70   33   80   63   40   45   62   34\n",
            "   32   59   41   52   74   75   66   78   44   65   93   57   50   53\n",
            "   72   54   82   76   22   42   60  132   79   61  106   73   89   95\n",
            "   91   90   87  111   77   86  101  117]\n",
            "**********\n",
            "\n",
            "\n",
            "BLUECARS_RETURNED column unique values: \n",
            "\n",
            "[ 103   94  139  104  117  185  180   83   84   85  125  127  223  193\n",
            "  107  116  118  122  130  217  150  113  146  218  189   81  110  147\n",
            "  204  121   99  112  109  207  165  111   93  119  176  158   86   98\n",
            "  135    9   91  131  137  138  208  177  124  101  145  203  169   96\n",
            "  136  142  196  154  100   97  144  128  179  151  115  232  105  219\n",
            "  143  190  102  159  155  156  120  141  201  133  253  199   95  108\n",
            "  188  126  206  174    7  244  197  153  264  148  164  277  213  149\n",
            "  175  270  198  280  161  178  152  160  257  205  240  123  157   12\n",
            "  265  186  173  140  171  167  255  209  170  266  248  243  183  292\n",
            "  222  134  236  132  181  172  184  168  162  237  163  233  202  283\n",
            "  192  252  211    6  250  187  229  249  338  293  214  212  228  379\n",
            "  359  220  225  245  400  307  221  224  367  334  274  344  340  317\n",
            "  235  342  290  182  241  332  297  195  231  414  329  210  366  319\n",
            "  247  376  331  322  271  328  267  377  311  281  339  305  216  258\n",
            "  284  238  326  275  330  318  304   21  166  279  310  315  300  352\n",
            "  269  254   19  191  333  259  295  262  256  242  341  272  285  288\n",
            "  230  278  303   13  407  356  476  433  302  343  456  372  291  308\n",
            "  301  429  467  321  466  358  306  438  313  299  355  362   16  312\n",
            "  287  261  401  405  260  413  337  298  309  398  375  316  286  426\n",
            "  363  289  320  382  314  349  294  364  346  369  411  378  371   17\n",
            "  399  234  383  227  194  403  325  268  200  423  350  394  365  246\n",
            "  327  226  370  347  273  282  296  408  389  418  324  239  251  416\n",
            "  360  393  396    8  276  409  424  435  442  412  532  492  430  422\n",
            "  460  459  552  545  448  441  465  477  428  488  519  390  406  478\n",
            "  594  380  420  449  368  402   22  427  446  421  457  471  528  454\n",
            "  388  496  523  469  445  453  447  525  417  464  506  512  425  351\n",
            "  432  494  484  529  483  498  535  443  458  392  395  434  462  391\n",
            "  348  444  568  461  463  508  482  534  481  472  518  485  480  415\n",
            "  419   18  336  335  455  521  517  436  263  440  499  410  345  474\n",
            "  381  323  361  384  354  387  439  479  468  450   35  353  397  215\n",
            "   23  513  674  490  716  641  713  644  386  431  690  569  507  711\n",
            "  602  613  570   62  595  563  437  493  630  404  658  629  682  557\n",
            "  625  501  567  676  622  596  526  548  579  522  516  373  510  451\n",
            "  659  649  605  475  667  559  561  489  547  688  584   44  611  621\n",
            "  770  687  509  758  655  473  717  536  798  618  669  603  541  671\n",
            "  735  487   61  651  593  656  642  581  686  607  608  673  684  520\n",
            "  666  685  564  497  571  647  725  503  694  724  696  549  707  645\n",
            "   41  550  617  695  670  633  745  679  514  589  712  504  538  560\n",
            "  783  524  592  634   56  639  572  693  546  678  606  544  627  598\n",
            "  530  533  648  537  600  614  551  565  704  531  554  575  785  543\n",
            "  573  824  742  578  698  680   39  582  654  646  672  624  385  597\n",
            "   42  638  631  553  615  577  566  635  374  558  495  632  650   27\n",
            "  843  720  752  846 1015  971  728  801  806  815  863 1211 1135  778\n",
            "  773  894  828  952 1300 1149  791  721  838 1214 1049  746  839  837\n",
            "  919 1287 1118  807  793 1136 1066  726  731  874  862  928 1117 1072\n",
            "  762  756  805  860 1057  747  830  865 1111 1119  734  819 1210 1046\n",
            "  780  972 1142 1033  706  792  869  967  979  873  767  893  891  840\n",
            " 1171 1189  875  942  995  963 1133 1051  775  763  736  857 1017  708\n",
            "  826  853  947  910  877  854 1146 1045  907  867  813  911 1032 1276\n",
            " 1271  892  982  948 1039 1294 1230 1004 1010 1040 1332 1143  880  914\n",
            "  970  930 1056 1154 1090   52  660  868  851  662  675  741  749  973\n",
            "  940  755  776  901 1077 1003  753  702  769 1061  890  787  808  887\n",
            " 1044  733  989  705  831  871  818  954  585  681  761   60  628  715\n",
            "  790  759  692  739  789  990  833  784  984  847  765  821 1020  861\n",
            "  616  777  729  842  832  834  797  779  915  898  623  714  710  599\n",
            "  816  620  664  697  802  804 1064  881  743  760  903  966  987  878\n",
            "  902  889 1076  855  885  996  879  906   40  542  703  904  677  939\n",
            "  981  612  938  958  771  917  852  643  709  718  845  590  663   57\n",
            "  864  700  969  610  738  757  730  754  983  975  949  737  823  876\n",
            "  665  768  786  772  965  897  883  539  357  502  586   53  604  527\n",
            "  583  470  580  591  576  652  744  689  683  486  699  701   79  500\n",
            "  722  556  811  515  661  653  587   75  588  601  555  562  637  505\n",
            "   55    5   10   20   11    3    4   14   15    1    0   24    2   49\n",
            "   31   34   65   25   30   38   54   76   32   45   50   37   36   28\n",
            "   74   69   33   29   58   47   48   71   43   66   26   51   59   63\n",
            "   46   68   67   64   90  129   77   78   80   89   88   87   72  106\n",
            "   92   70   73  114   82]\n",
            "**********\n",
            "\n",
            "\n",
            "UTILIB_TAKEN column unique values: \n",
            "\n",
            "[ 3  1  0  2  6  5  4  7  8  9 11 17 10 13 18 12 15 16 21 19 14 34 31 23\n",
            " 20 22 24 29 25 28 26 27 46 32 30 43 38 37 40 45 54 36 35 39 42 33 41 47]\n",
            "**********\n",
            "\n",
            "\n",
            "UTILIB_RETURNED column unique values: \n",
            "\n",
            "[ 2  1  0  3  6  5  4  7  8  9 11 17 10 13 18 14 15 12 21 20 16 19 35 32\n",
            " 23 22 24 25 27 26 30 49 28 31 29 43 38 39 36 34 47 45 33 58 41 37 42 40\n",
            " 44]\n",
            "**********\n",
            "\n",
            "\n",
            "UTILIB1.4_TAKEN column unique values: \n",
            "\n",
            "[ 10   8   2   9   6   7   4  11  13  12  15  25   5  14   3  17  16   0\n",
            "   1  21  18  19  22  20  27  23  24  29  26  28  30  33  41  36  34  40\n",
            "  50  45  32  31  35  37  42  38  48  47  52  39  53  43  56  51  75  49\n",
            "  55  44  46  54  57  61  60  70  58  68  62  64  59  66  63  65  72  89\n",
            "  82  69  71  79  84  73  81  80  67  90 100  91  85  74  76  94  78  95\n",
            "  87  93]\n",
            "**********\n",
            "\n",
            "\n",
            "UTILIB1.4_RETURNED column unique values: \n",
            "\n",
            "[  9   8   2   6  10   4  11  13  12  15   7  25   5  14   3  17  16   0\n",
            "   1  21  18  19  20  22  27  23  24  29  34  41  28  35  32  30  26  33\n",
            "  43  50  44  31  36  40  38  48  37  47  53  45  39  51  54  52  46  74\n",
            "  42  57  49  60  63  61  55  66  59  58  67  68  62  64  71  56  69  84\n",
            "  70  72  86  76  80  89  73  94  79  65  93  78  75  77  82  85  88 101\n",
            "  87  90  96  83]\n",
            "**********\n",
            "\n",
            "\n",
            "SLOTS_FREED column unique values: \n",
            "\n",
            "[ 22  23  27  25  18  38  34  14  15  11  19  16  21  17  41  24  20  35\n",
            "  36  32  13  28  12  26   0  48  30  29  31  47  33  40  37   9  10  43\n",
            "  44  49  39  42  45  51  46  59  64  56  52   1  50  95  84  83  81  58\n",
            "  61  67 101  86  63  97  60  57  65  80  79  77  54  85  75  73  55   3\n",
            "  62  82  71  69  74  89  91 109  70  76  72  68  78  53  66  87   2   5\n",
            " 120 111  92 110  88 103 142 115 105 113 121  96  90 134 140 130  94  99\n",
            " 128 100 129  98 118 106 119 117 102 107  93 135 104 122 133 108 112 116\n",
            " 123 136 126   6 114 132 177 167 125 124 131 143 139 137 153 180 157 162\n",
            " 152 151 149 156 145 173 147 211 127 141 161 144 163 138 171 158 148 168\n",
            " 154 166 150 170 146 165 178 174 175 176 181 190 160 184 205 253 252 155\n",
            " 193 204 221 214 169 197 196 200 199 191 185 183 208 159 218 215 179 216\n",
            " 203 186 206   7 192 172 202 236 274 195 222 239 213 229 188 201 240 164\n",
            " 226 220 182   8 194 248 289 286 234 302 254 189 235 319 277 284 360 249\n",
            " 237 305 263 271 272 209 301 278 251 322 232 207 228 283 344 282 212 330\n",
            " 309 225 217 357 280 257 300 273 250 288 339 292 242 262 308 285 198 241\n",
            " 264 267 335 293 310 219 224 187 230 223 269 258 210 233 246 255 259 227\n",
            " 244 245 231 270 275 243 296 334   4]\n",
            "**********\n",
            "\n",
            "\n",
            "SLOTS_TAKEN column unique values: \n",
            "\n",
            "[ 20  22  27  21  35  34  15  13  38  19  39  25  14   9  37  36  30  16\n",
            "  11  28  33  18  12   0  31  23  26  50  17  40  24  48  32   8  29  42\n",
            "  43  49  45  41  44  52  59  46  65  47  57  51   1  97  87  54  84  83\n",
            "  60  69 103  58  62  92  67  78  82  77  53  88  72  66  99  64  55  75\n",
            " 113  63  74  71  89  68  81  73  70  61  79  56  76  86   2 118 108 107\n",
            " 144 114  93 105 106 115 122  90  80  98  85 139 136 128  94 126  95   4\n",
            " 130 102  96 129 138 111 124 101 109 116 110 134  91 119 137 100   3 104\n",
            " 112   6 177 125 120 123 131 135 140 132 155 182 154 164 121 151 157 147\n",
            " 117 153 160 141 172 161   5 213 145 143 162 127 148 169 149 171 167 163\n",
            " 166 133 158 159 150 174 173 178 152   7 176 179 165 180 142 188 185 183\n",
            "  10 210 252 249 199 196 228 205 201 181 193 184 207 168 225 187 212 186\n",
            " 146 170 203 223 197 194 230 280 202 191 200 221 218 192 156 208 175 198\n",
            " 233 204 222 220 189 215 245 214 209 248 287 286 229 240 295 211 321 272\n",
            " 195 226 235 216 278 359 328 247 239 330 298 260 271 273 263 255 227 315\n",
            " 284 231 349 236 253 322 285 251 246 238 261 301 219 346 289 217 254 283\n",
            " 275 299 232 224 243 242 303 268 244 336 305 297 241 262 258 338 270 292\n",
            " 264 294 290 206 190 234 267 269 250 276 279 304 326]\n",
            "**********\n",
            "\n",
            "\n"
          ],
          "name": "stdout"
        }
      ]
    },
    {
      "cell_type": "code",
      "metadata": {
        "id": "3fEOMvGhIz4U",
        "colab": {
          "base_uri": "https://localhost:8080/"
        },
        "outputId": "f4ef9131-9c37-4e21-ea6f-9eeae28470e1"
      },
      "source": [
        "#Identifying the Missing Data\n",
        "df2.isnull().sum()"
      ],
      "execution_count": null,
      "outputs": [
        {
          "output_type": "execute_result",
          "data": {
            "text/plain": [
              "Postal code               0\n",
              "date                      0\n",
              "n_daily_data_points       0\n",
              "dayOfWeek                 0\n",
              "day_type                  0\n",
              "BlueCars_taken_sum        0\n",
              "BlueCars_returned_sum     0\n",
              "Utilib_taken_sum          0\n",
              "Utilib_returned_sum       0\n",
              "Utilib_14_taken_sum       0\n",
              "Utilib_14_returned_sum    0\n",
              "Slots_freed_sum           0\n",
              "Slots_taken_sum           0\n",
              "dtype: int64"
            ]
          },
          "metadata": {
            "tags": []
          },
          "execution_count": 10
        }
      ]
    },
    {
      "cell_type": "code",
      "metadata": {
        "colab": {
          "base_uri": "https://localhost:8080/"
        },
        "id": "w2QBL217UIL7",
        "outputId": "b782d1a4-7f48-4312-bf31-b3e95c1f36b5"
      },
      "source": [
        "# More data cleaning procedures\n",
        "df2.info()"
      ],
      "execution_count": 199,
      "outputs": [
        {
          "output_type": "stream",
          "text": [
            "<class 'pandas.core.frame.DataFrame'>\n",
            "Int64Index: 9783 entries, 3899 to 16083\n",
            "Data columns (total 13 columns):\n",
            " #   Column                  Non-Null Count  Dtype \n",
            "---  ------                  --------------  ----- \n",
            " 0   Postal code             9783 non-null   int64 \n",
            " 1   date                    9783 non-null   object\n",
            " 2   n_daily_data_points     9783 non-null   int64 \n",
            " 3   dayOfWeek               9783 non-null   int64 \n",
            " 4   day_type                9783 non-null   object\n",
            " 5   BlueCars_taken_sum      9783 non-null   int64 \n",
            " 6   BlueCars_returned_sum   9783 non-null   int64 \n",
            " 7   Utilib_taken_sum        9783 non-null   int64 \n",
            " 8   Utilib_returned_sum     9783 non-null   int64 \n",
            " 9   Utilib_14_taken_sum     9783 non-null   int64 \n",
            " 10  Utilib_14_returned_sum  9783 non-null   int64 \n",
            " 11  Slots_freed_sum         9783 non-null   int64 \n",
            " 12  Slots_taken_sum         9783 non-null   int64 \n",
            "dtypes: int64(11), object(2)\n",
            "memory usage: 1.0+ MB\n"
          ],
          "name": "stdout"
        }
      ]
    },
    {
      "cell_type": "code",
      "metadata": {
        "colab": {
          "base_uri": "https://localhost:8080/"
        },
        "id": "TBXy6HsISG5s",
        "outputId": "f63d80eb-e7bd-485a-dbf0-70c252dfe27f"
      },
      "source": [
        "#Drop unnecessary columns\n",
        "df2.drop(['date', 'n_daily_data_points', 'Utilib_taken_sum', 'Utilib_returned_sum', 'Utilib_14_taken_sum', 'Utilib_14_returned_sum','Slots_freed_sum', 'Slots_taken_sum'], axis=1, inplace=True)\n",
        "\n",
        "#preview the columns\n",
        "df2.columns"
      ],
      "execution_count": 245,
      "outputs": [
        {
          "output_type": "stream",
          "text": [
            "/usr/local/lib/python3.7/dist-packages/pandas/core/frame.py:4174: SettingWithCopyWarning:\n",
            "\n",
            "\n",
            "A value is trying to be set on a copy of a slice from a DataFrame\n",
            "\n",
            "See the caveats in the documentation: https://pandas.pydata.org/pandas-docs/stable/user_guide/indexing.html#returning-a-view-versus-a-copy\n",
            "\n"
          ],
          "name": "stderr"
        },
        {
          "output_type": "execute_result",
          "data": {
            "text/plain": [
              "Index(['Postal code', 'dayOfWeek', 'day_type', 'BlueCars_taken_sum',\n",
              "       'BlueCars_returned_sum'],\n",
              "      dtype='object')"
            ]
          },
          "metadata": {
            "tags": []
          },
          "execution_count": 245
        }
      ]
    },
    {
      "cell_type": "code",
      "metadata": {
        "colab": {
          "base_uri": "https://localhost:8080/"
        },
        "id": "vpTqFBEEnhGU",
        "outputId": "3b378dd9-b0cf-4845-c7cc-a482b3a1f9ce"
      },
      "source": [
        "#convert column names to uppercase\n",
        "df2.columns = df2.columns.str.upper()\n",
        "\n",
        "#preview the columns\n",
        "df2.columns"
      ],
      "execution_count": 246,
      "outputs": [
        {
          "output_type": "execute_result",
          "data": {
            "text/plain": [
              "Index(['POSTAL CODE', 'DAYOFWEEK', 'DAY_TYPE', 'BLUECARS_TAKEN_SUM',\n",
              "       'BLUECARS_RETURNED_SUM'],\n",
              "      dtype='object')"
            ]
          },
          "metadata": {
            "tags": []
          },
          "execution_count": 246
        }
      ]
    },
    {
      "cell_type": "markdown",
      "metadata": {
        "id": "kmRkHfsoXjDy"
      },
      "source": [
        "7. Exploratory Analysis"
      ]
    },
    {
      "cell_type": "code",
      "metadata": {
        "colab": {
          "base_uri": "https://localhost:8080/"
        },
        "id": "R96fHvRaWgiI",
        "outputId": "aa855c46-2a30-4f8f-e651-2b44c1a31172"
      },
      "source": [
        "#Now we will confirm how many Weekday and Weekends are there in our dataset\n",
        "\n",
        "#Frequency Distribution for categorical variables\n",
        "cat_df = df2.select_dtypes(include='object').columns.to_list()\n",
        "for col in cat_df:\n",
        "  print(f'Column: {col}')\n",
        "  print(df2[col].value_counts().sort_values(ascending=False))\n",
        "  print('**********')\n",
        "  print('\\n')"
      ],
      "execution_count": null,
      "outputs": [
        {
          "output_type": "stream",
          "text": [
            "Column: DAY_TYPE\n",
            "weekday    11544\n",
            "weekend     4541\n",
            "Name: DAY_TYPE, dtype: int64\n",
            "**********\n",
            "\n",
            "\n"
          ],
          "name": "stdout"
        }
      ]
    },
    {
      "cell_type": "markdown",
      "metadata": {
        "id": "ld80QKli2kR8"
      },
      "source": [
        "Now that we have confirmed that our popluation follows the correct proportion, we are going to first create a random sample of 1000 days without stratification just to see how it behaves."
      ]
    },
    {
      "cell_type": "code",
      "metadata": {
        "colab": {
          "base_uri": "https://localhost:8080/"
        },
        "id": "BP34hbnr1cId",
        "outputId": "a99985e8-2a9c-47ea-a65b-3dd268144191"
      },
      "source": [
        "# We pass in an argument called frac which symbolises the fraction of the population we want to use as our sample\n",
        "\n",
        "# Non stratified sample\n",
        "non_strat_output = df2.sample(frac=0.1) \n",
        "\n",
        "# check the proportion of the non_stratified sample\n",
        "print(non_strat_output['DAY_TYPE'].value_counts())"
      ],
      "execution_count": null,
      "outputs": [
        {
          "output_type": "stream",
          "text": [
            "weekday    1163\n",
            "weekend     445\n",
            "Name: DAY_TYPE, dtype: int64\n"
          ],
          "name": "stdout"
        }
      ]
    },
    {
      "cell_type": "code",
      "metadata": {
        "colab": {
          "base_uri": "https://localhost:8080/"
        },
        "id": "CZ3wWKsm3Dw9",
        "outputId": "7a484c6e-31a2-44d5-9ded-089ef79c1ae6"
      },
      "source": [
        "#To create a stratified random sample we'll use pandas groupBy method. Basically what the method does is that it splits our dataset into sets and then applies a function on each subset.\n",
        "# In our case, we are going to applies a function that puts each subset into a random sample with a size of 100. The beauty about this method is that it strictly maintains the populations proportion.\n",
        "\n",
        "# Stratified sample\n",
        "df_strat = df2.groupby('DAY_TYPE', group_keys=False).apply(lambda grouped_subset : grouped_subset.sample(frac=0.1))\n",
        "\n",
        "# proportion of the non_stratified sample\n",
        "print(df_strat['DAY_TYPE'].value_counts())\n",
        "\n",
        "# Check the stratified output\n",
        "print(df_strat)"
      ],
      "execution_count": null,
      "outputs": [
        {
          "output_type": "stream",
          "text": [
            "weekday    1154\n",
            "weekend     454\n",
            "Name: DAY_TYPE, dtype: int64\n",
            "       POSTAL_CODE  DAY DAY_TYPE  BLUECARS_TAKEN  BLUECARS_RETURNED\n",
            "7652         92320    4  weekday              69                 61\n",
            "7005         92260    4  weekday              30                 28\n",
            "2903         75019    0  weekday             401                422\n",
            "10406        93130    1  weekday              20                 26\n",
            "7671         92320    2  weekday              68                 65\n",
            "...            ...  ...      ...             ...                ...\n",
            "1458         75010    5  weekend              56                 35\n",
            "13728        94130    5  weekend              67                 60\n",
            "5551         92160    6  weekend              51                 43\n",
            "7474         92300    5  weekend             227                229\n",
            "1009         75007    6  weekend             324                316\n",
            "\n",
            "[1608 rows x 5 columns]\n"
          ],
          "name": "stdout"
        }
      ]
    },
    {
      "cell_type": "code",
      "metadata": {
        "colab": {
          "base_uri": "https://localhost:8080/",
          "height": 414
        },
        "id": "RRNDEaFcXgBK",
        "outputId": "574a12c1-d6e9-48d3-f218-6c0b7802fa34"
      },
      "source": [
        "#Extract day type data\n",
        "df_day = df_strat[df_strat.DAY_TYPE== 'weekday']\n",
        "\n",
        "#preview day type\n",
        "df_day"
      ],
      "execution_count": null,
      "outputs": [
        {
          "output_type": "execute_result",
          "data": {
            "text/html": [
              "<div>\n",
              "<style scoped>\n",
              "    .dataframe tbody tr th:only-of-type {\n",
              "        vertical-align: middle;\n",
              "    }\n",
              "\n",
              "    .dataframe tbody tr th {\n",
              "        vertical-align: top;\n",
              "    }\n",
              "\n",
              "    .dataframe thead th {\n",
              "        text-align: right;\n",
              "    }\n",
              "</style>\n",
              "<table border=\"1\" class=\"dataframe\">\n",
              "  <thead>\n",
              "    <tr style=\"text-align: right;\">\n",
              "      <th></th>\n",
              "      <th>POSTAL_CODE</th>\n",
              "      <th>DAY</th>\n",
              "      <th>DAY_TYPE</th>\n",
              "      <th>BLUECARS_TAKEN</th>\n",
              "      <th>BLUECARS_RETURNED</th>\n",
              "    </tr>\n",
              "  </thead>\n",
              "  <tbody>\n",
              "    <tr>\n",
              "      <th>7652</th>\n",
              "      <td>92320</td>\n",
              "      <td>4</td>\n",
              "      <td>weekday</td>\n",
              "      <td>69</td>\n",
              "      <td>61</td>\n",
              "    </tr>\n",
              "    <tr>\n",
              "      <th>7005</th>\n",
              "      <td>92260</td>\n",
              "      <td>4</td>\n",
              "      <td>weekday</td>\n",
              "      <td>30</td>\n",
              "      <td>28</td>\n",
              "    </tr>\n",
              "    <tr>\n",
              "      <th>2903</th>\n",
              "      <td>75019</td>\n",
              "      <td>0</td>\n",
              "      <td>weekday</td>\n",
              "      <td>401</td>\n",
              "      <td>422</td>\n",
              "    </tr>\n",
              "    <tr>\n",
              "      <th>10406</th>\n",
              "      <td>93130</td>\n",
              "      <td>1</td>\n",
              "      <td>weekday</td>\n",
              "      <td>20</td>\n",
              "      <td>26</td>\n",
              "    </tr>\n",
              "    <tr>\n",
              "      <th>7671</th>\n",
              "      <td>92320</td>\n",
              "      <td>2</td>\n",
              "      <td>weekday</td>\n",
              "      <td>68</td>\n",
              "      <td>65</td>\n",
              "    </tr>\n",
              "    <tr>\n",
              "      <th>...</th>\n",
              "      <td>...</td>\n",
              "      <td>...</td>\n",
              "      <td>...</td>\n",
              "      <td>...</td>\n",
              "      <td>...</td>\n",
              "    </tr>\n",
              "    <tr>\n",
              "      <th>10721</th>\n",
              "      <td>93170</td>\n",
              "      <td>2</td>\n",
              "      <td>weekday</td>\n",
              "      <td>34</td>\n",
              "      <td>35</td>\n",
              "    </tr>\n",
              "    <tr>\n",
              "      <th>15989</th>\n",
              "      <td>95880</td>\n",
              "      <td>0</td>\n",
              "      <td>weekday</td>\n",
              "      <td>19</td>\n",
              "      <td>23</td>\n",
              "    </tr>\n",
              "    <tr>\n",
              "      <th>11092</th>\n",
              "      <td>93260</td>\n",
              "      <td>1</td>\n",
              "      <td>weekday</td>\n",
              "      <td>33</td>\n",
              "      <td>31</td>\n",
              "    </tr>\n",
              "    <tr>\n",
              "      <th>11334</th>\n",
              "      <td>93300</td>\n",
              "      <td>1</td>\n",
              "      <td>weekday</td>\n",
              "      <td>2</td>\n",
              "      <td>0</td>\n",
              "    </tr>\n",
              "    <tr>\n",
              "      <th>13146</th>\n",
              "      <td>94100</td>\n",
              "      <td>2</td>\n",
              "      <td>weekday</td>\n",
              "      <td>1</td>\n",
              "      <td>2</td>\n",
              "    </tr>\n",
              "  </tbody>\n",
              "</table>\n",
              "<p>1154 rows × 5 columns</p>\n",
              "</div>"
            ],
            "text/plain": [
              "       POSTAL_CODE  DAY DAY_TYPE  BLUECARS_TAKEN  BLUECARS_RETURNED\n",
              "7652         92320    4  weekday              69                 61\n",
              "7005         92260    4  weekday              30                 28\n",
              "2903         75019    0  weekday             401                422\n",
              "10406        93130    1  weekday              20                 26\n",
              "7671         92320    2  weekday              68                 65\n",
              "...            ...  ...      ...             ...                ...\n",
              "10721        93170    2  weekday              34                 35\n",
              "15989        95880    0  weekday              19                 23\n",
              "11092        93260    1  weekday              33                 31\n",
              "11334        93300    1  weekday               2                  0\n",
              "13146        94100    2  weekday               1                  2\n",
              "\n",
              "[1154 rows x 5 columns]"
            ]
          },
          "metadata": {
            "tags": []
          },
          "execution_count": 121
        }
      ]
    },
    {
      "cell_type": "markdown",
      "metadata": {
        "id": "G6FUlZrZpAoT"
      },
      "source": [
        "\n",
        "Since Selection requires one set of data either Weekday or Weekend.We choosed to work with Weekdays.\n",
        "This is because a weekday has more days hence we get a large sample to draw insight from."
      ]
    },
    {
      "cell_type": "code",
      "metadata": {
        "colab": {
          "base_uri": "https://localhost:8080/",
          "height": 355
        },
        "id": "sbR8mRxLqquw",
        "outputId": "355557d3-74c2-4374-b664-653a7c6f9894"
      },
      "source": [
        "#preview a sample of 10 \n",
        "df_day.sample(10)"
      ],
      "execution_count": null,
      "outputs": [
        {
          "output_type": "execute_result",
          "data": {
            "text/html": [
              "<div>\n",
              "<style scoped>\n",
              "    .dataframe tbody tr th:only-of-type {\n",
              "        vertical-align: middle;\n",
              "    }\n",
              "\n",
              "    .dataframe tbody tr th {\n",
              "        vertical-align: top;\n",
              "    }\n",
              "\n",
              "    .dataframe thead th {\n",
              "        text-align: right;\n",
              "    }\n",
              "</style>\n",
              "<table border=\"1\" class=\"dataframe\">\n",
              "  <thead>\n",
              "    <tr style=\"text-align: right;\">\n",
              "      <th></th>\n",
              "      <th>POSTAL_CODE</th>\n",
              "      <th>DAY</th>\n",
              "      <th>DAY_TYPE</th>\n",
              "      <th>BLUECARS_TAKEN</th>\n",
              "      <th>BLUECARS_RETURNED</th>\n",
              "    </tr>\n",
              "  </thead>\n",
              "  <tbody>\n",
              "    <tr>\n",
              "      <th>15407</th>\n",
              "      <td>94700</td>\n",
              "      <td>0</td>\n",
              "      <td>weekday</td>\n",
              "      <td>25</td>\n",
              "      <td>21</td>\n",
              "    </tr>\n",
              "    <tr>\n",
              "      <th>1786</th>\n",
              "      <td>75012</td>\n",
              "      <td>3</td>\n",
              "      <td>weekday</td>\n",
              "      <td>437</td>\n",
              "      <td>447</td>\n",
              "    </tr>\n",
              "    <tr>\n",
              "      <th>10897</th>\n",
              "      <td>93230</td>\n",
              "      <td>1</td>\n",
              "      <td>weekday</td>\n",
              "      <td>43</td>\n",
              "      <td>49</td>\n",
              "    </tr>\n",
              "    <tr>\n",
              "      <th>15837</th>\n",
              "      <td>95870</td>\n",
              "      <td>4</td>\n",
              "      <td>weekday</td>\n",
              "      <td>19</td>\n",
              "      <td>19</td>\n",
              "    </tr>\n",
              "    <tr>\n",
              "      <th>11116</th>\n",
              "      <td>93260</td>\n",
              "      <td>4</td>\n",
              "      <td>weekday</td>\n",
              "      <td>45</td>\n",
              "      <td>38</td>\n",
              "    </tr>\n",
              "    <tr>\n",
              "      <th>10218</th>\n",
              "      <td>93110</td>\n",
              "      <td>0</td>\n",
              "      <td>weekday</td>\n",
              "      <td>26</td>\n",
              "      <td>25</td>\n",
              "    </tr>\n",
              "    <tr>\n",
              "      <th>5645</th>\n",
              "      <td>92170</td>\n",
              "      <td>4</td>\n",
              "      <td>weekday</td>\n",
              "      <td>72</td>\n",
              "      <td>63</td>\n",
              "    </tr>\n",
              "    <tr>\n",
              "      <th>13615</th>\n",
              "      <td>94130</td>\n",
              "      <td>4</td>\n",
              "      <td>weekday</td>\n",
              "      <td>55</td>\n",
              "      <td>53</td>\n",
              "    </tr>\n",
              "    <tr>\n",
              "      <th>6747</th>\n",
              "      <td>92250</td>\n",
              "      <td>0</td>\n",
              "      <td>weekday</td>\n",
              "      <td>43</td>\n",
              "      <td>41</td>\n",
              "    </tr>\n",
              "    <tr>\n",
              "      <th>7509</th>\n",
              "      <td>92310</td>\n",
              "      <td>3</td>\n",
              "      <td>weekday</td>\n",
              "      <td>54</td>\n",
              "      <td>52</td>\n",
              "    </tr>\n",
              "  </tbody>\n",
              "</table>\n",
              "</div>"
            ],
            "text/plain": [
              "       POSTAL_CODE  DAY DAY_TYPE  BLUECARS_TAKEN  BLUECARS_RETURNED\n",
              "15407        94700    0  weekday              25                 21\n",
              "1786         75012    3  weekday             437                447\n",
              "10897        93230    1  weekday              43                 49\n",
              "15837        95870    4  weekday              19                 19\n",
              "11116        93260    4  weekday              45                 38\n",
              "10218        93110    0  weekday              26                 25\n",
              "5645         92170    4  weekday              72                 63\n",
              "13615        94130    4  weekday              55                 53\n",
              "6747         92250    0  weekday              43                 41\n",
              "7509         92310    3  weekday              54                 52"
            ]
          },
          "metadata": {
            "tags": []
          },
          "execution_count": 122
        }
      ]
    },
    {
      "cell_type": "code",
      "metadata": {
        "colab": {
          "base_uri": "https://localhost:8080/"
        },
        "id": "1Ipcfl61tGqt",
        "outputId": "c1f63a4c-b95b-4fb4-91c7-2d1ae4ed9713"
      },
      "source": [
        "#preview the new shape of the selected day type\n",
        "df_day.shape"
      ],
      "execution_count": null,
      "outputs": [
        {
          "output_type": "execute_result",
          "data": {
            "text/plain": [
              "(1154, 13)"
            ]
          },
          "metadata": {
            "tags": []
          },
          "execution_count": 76
        }
      ]
    },
    {
      "cell_type": "code",
      "metadata": {
        "colab": {
          "base_uri": "https://localhost:8080/"
        },
        "id": "9hkgZWnGtz6A",
        "outputId": "fc9086a6-c533-4a24-e7ab-5323d207bd54"
      },
      "source": [
        "#check for unique values\n",
        "df_day.nunique()"
      ],
      "execution_count": null,
      "outputs": [
        {
          "output_type": "execute_result",
          "data": {
            "text/plain": [
              "POSTAL_CODE          104\n",
              "DAY                    5\n",
              "DAY_TYPE               1\n",
              "BLUECARS_TAKEN       347\n",
              "BLUECARS_RETURNED    327\n",
              "dtype: int64"
            ]
          },
          "metadata": {
            "tags": []
          },
          "execution_count": 123
        }
      ]
    },
    {
      "cell_type": "markdown",
      "metadata": {
        "id": "MyyV40uuUhX3"
      },
      "source": [
        "a. Univariate Analysis"
      ]
    },
    {
      "cell_type": "code",
      "metadata": {
        "colab": {
          "base_uri": "https://localhost:8080/"
        },
        "id": "X0NBSzFRui-j",
        "outputId": "9c4ce954-8a8b-4aa2-ce45-e251091150bc"
      },
      "source": [
        "#get proprotion of day of week\n",
        "df_day['DAY'].value_counts(normalize=True)*100"
      ],
      "execution_count": 172,
      "outputs": [
        {
          "output_type": "execute_result",
          "data": {
            "text/plain": [
              "2    21.317158\n",
              "4    20.883882\n",
              "0    20.883882\n",
              "1    19.410745\n",
              "3    17.504333\n",
              "Name: DAY, dtype: float64"
            ]
          },
          "metadata": {
            "tags": []
          },
          "execution_count": 172
        }
      ]
    },
    {
      "cell_type": "markdown",
      "metadata": {
        "id": "pf6u-AkbvKi2"
      },
      "source": [
        "From the dataset, the days of the week are coded as following:\n",
        "0 represents monday, 1 represents Tuesday, 2 represents Wednesday, 3 represents Thursday and 4 represents Friday\n"
      ]
    },
    {
      "cell_type": "code",
      "metadata": {
        "colab": {
          "base_uri": "https://localhost:8080/",
          "height": 416
        },
        "id": "xs7QzjKMAlG1",
        "outputId": "d5730158-898f-48ca-826b-e40a240a7ce1"
      },
      "source": [
        "#How is traffic per day?\n",
        "\n",
        "#initially, set that counter to 1.\n",
        "df_day['COUNTER'] =1\n",
        "group_data = df_day.groupby(['DAY',])['COUNTER'].sum().plot.bar()\n",
        "plt.title('TRAFFIC PER DAY')"
      ],
      "execution_count": null,
      "outputs": [
        {
          "output_type": "stream",
          "text": [
            "/usr/local/lib/python3.7/dist-packages/ipykernel_launcher.py:4: SettingWithCopyWarning: \n",
            "A value is trying to be set on a copy of a slice from a DataFrame.\n",
            "Try using .loc[row_indexer,col_indexer] = value instead\n",
            "\n",
            "See the caveats in the documentation: https://pandas.pydata.org/pandas-docs/stable/user_guide/indexing.html#returning-a-view-versus-a-copy\n",
            "  after removing the cwd from sys.path.\n"
          ],
          "name": "stderr"
        },
        {
          "output_type": "execute_result",
          "data": {
            "text/plain": [
              "Text(0.5, 1.0, 'TRAFFIC PER DAY')"
            ]
          },
          "metadata": {
            "tags": []
          },
          "execution_count": 125
        },
        {
          "output_type": "display_data",
          "data": {
            "image/png": "[encoded data removed]",
            "text/plain": [
              "<Figure size 432x288 with 1 Axes>"
            ]
          },
          "metadata": {
            "tags": [],
            "needs_background": "light"
          }
        }
      ]
    },
    {
      "cell_type": "code",
      "metadata": {
        "colab": {
          "base_uri": "https://localhost:8080/",
          "height": 294
        },
        "id": "x3M9K8fw6rkE",
        "outputId": "29693d02-8d89-428e-8295-2ec6a0b2d8f2"
      },
      "source": [
        "\n",
        "# Describe numerical variables \n",
        "df_day[['BLUECARS_TAKEN','BLUECARS_RETURNED']].describe()"
      ],
      "execution_count": null,
      "outputs": [
        {
          "output_type": "execute_result",
          "data": {
            "text/html": [
              "<div>\n",
              "<style scoped>\n",
              "    .dataframe tbody tr th:only-of-type {\n",
              "        vertical-align: middle;\n",
              "    }\n",
              "\n",
              "    .dataframe tbody tr th {\n",
              "        vertical-align: top;\n",
              "    }\n",
              "\n",
              "    .dataframe thead th {\n",
              "        text-align: right;\n",
              "    }\n",
              "</style>\n",
              "<table border=\"1\" class=\"dataframe\">\n",
              "  <thead>\n",
              "    <tr style=\"text-align: right;\">\n",
              "      <th></th>\n",
              "      <th>BLUECARS_TAKEN</th>\n",
              "      <th>BLUECARS_RETURNED</th>\n",
              "    </tr>\n",
              "  </thead>\n",
              "  <tbody>\n",
              "    <tr>\n",
              "      <th>count</th>\n",
              "      <td>1154.000000</td>\n",
              "      <td>1154.000000</td>\n",
              "    </tr>\n",
              "    <tr>\n",
              "      <th>mean</th>\n",
              "      <td>122.167244</td>\n",
              "      <td>121.651646</td>\n",
              "    </tr>\n",
              "    <tr>\n",
              "      <th>std</th>\n",
              "      <td>177.750580</td>\n",
              "      <td>176.472381</td>\n",
              "    </tr>\n",
              "    <tr>\n",
              "      <th>min</th>\n",
              "      <td>0.000000</td>\n",
              "      <td>0.000000</td>\n",
              "    </tr>\n",
              "    <tr>\n",
              "      <th>25%</th>\n",
              "      <td>20.000000</td>\n",
              "      <td>20.000000</td>\n",
              "    </tr>\n",
              "    <tr>\n",
              "      <th>50%</th>\n",
              "      <td>44.000000</td>\n",
              "      <td>44.000000</td>\n",
              "    </tr>\n",
              "    <tr>\n",
              "      <th>75%</th>\n",
              "      <td>128.500000</td>\n",
              "      <td>129.250000</td>\n",
              "    </tr>\n",
              "    <tr>\n",
              "      <th>max</th>\n",
              "      <td>932.000000</td>\n",
              "      <td>970.000000</td>\n",
              "    </tr>\n",
              "  </tbody>\n",
              "</table>\n",
              "</div>"
            ],
            "text/plain": [
              "       BLUECARS_TAKEN  BLUECARS_RETURNED\n",
              "count     1154.000000        1154.000000\n",
              "mean       122.167244         121.651646\n",
              "std        177.750580         176.472381\n",
              "min          0.000000           0.000000\n",
              "25%         20.000000          20.000000\n",
              "50%         44.000000          44.000000\n",
              "75%        128.500000         129.250000\n",
              "max        932.000000         970.000000"
            ]
          },
          "metadata": {
            "tags": []
          },
          "execution_count": 126
        }
      ]
    },
    {
      "cell_type": "code",
      "metadata": {
        "colab": {
          "base_uri": "https://localhost:8080/",
          "height": 297
        },
        "id": "C-NUGEgf7Apr",
        "outputId": "3bca7608-11ff-4b63-dce4-18386888f123"
      },
      "source": [
        "sns.histplot(df_day['BLUECARS_TAKEN'], bins=20)"
      ],
      "execution_count": null,
      "outputs": [
        {
          "output_type": "execute_result",
          "data": {
            "text/plain": [
              "<matplotlib.axes._subplots.AxesSubplot at 0x7f50abec37d0>"
            ]
          },
          "metadata": {
            "tags": []
          },
          "execution_count": 127
        },
        {
          "output_type": "display_data",
          "data": {
            "image/png": "[encoded data removed]",
            "text/plain": [
              "<Figure size 432x288 with 1 Axes>"
            ]
          },
          "metadata": {
            "tags": [],
            "needs_background": "light"
          }
        }
      ]
    },
    {
      "cell_type": "code",
      "metadata": {
        "colab": {
          "base_uri": "https://localhost:8080/"
        },
        "id": "ui9VGOjU75Aw",
        "outputId": "84791a72-1258-4c7b-aee2-cbfd1c29ce9f"
      },
      "source": [
        "#check for skewness in Bluecars taken column\n",
        "df2['BLUECARS_TAKEN'].skew()"
      ],
      "execution_count": null,
      "outputs": [
        {
          "output_type": "execute_result",
          "data": {
            "text/plain": [
              "2.4063548974959086"
            ]
          },
          "metadata": {
            "tags": []
          },
          "execution_count": 128
        }
      ]
    },
    {
      "cell_type": "markdown",
      "metadata": {
        "id": "IaPY63kB8BhS"
      },
      "source": [
        "The BLUECARS_TAKEN variable is positively skewed"
      ]
    },
    {
      "cell_type": "code",
      "metadata": {
        "colab": {
          "base_uri": "https://localhost:8080/"
        },
        "id": "nXccPu3p9Thu",
        "outputId": "cdfa19aa-355d-4f66-837a-b9d83f5be096"
      },
      "source": [
        "#check for kurtosis in column for age\n",
        "df_day['BLUECARS_TAKEN'].kurt()"
      ],
      "execution_count": null,
      "outputs": [
        {
          "output_type": "execute_result",
          "data": {
            "text/plain": [
              "4.651522070259686"
            ]
          },
          "metadata": {
            "tags": []
          },
          "execution_count": 129
        }
      ]
    },
    {
      "cell_type": "code",
      "metadata": {
        "colab": {
          "base_uri": "https://localhost:8080/"
        },
        "id": "GpNmUbr8KYPn",
        "outputId": "d05b9d51-b708-4772-f7b8-c95413488811"
      },
      "source": [
        "#Check for nomality test using Shapiro-Wilk test\n",
        "\n",
        "#imporing the shapiro function\n",
        "from scipy.stats import shapiro \n",
        "\n",
        "# generating univariate observations\n",
        "data = df_day['BLUECARS_TAKEN']\n",
        "\n",
        "# testing for normality\n",
        "stat, p = shapiro(data)\n",
        "print('Statistics=%.3f, p=%.3f' % (stat, p))\n",
        "\n",
        "# interpreting\n",
        "alpha = 0.05\n",
        "if p > alpha:\n",
        "\tprint('Sample looks Gaussian')\n",
        "else:\n",
        "\tprint('Sample does not look Gaussian')\n",
        "  "
      ],
      "execution_count": null,
      "outputs": [
        {
          "output_type": "stream",
          "text": [
            "Statistics=0.666, p=0.000\n",
            "Sample does not look Gaussian\n"
          ],
          "name": "stdout"
        }
      ]
    },
    {
      "cell_type": "code",
      "metadata": {
        "colab": {
          "base_uri": "https://localhost:8080/",
          "height": 297
        },
        "id": "ZtfDx6Jp8LWA",
        "outputId": "bcce7f96-c733-4713-c746-ce572b831331"
      },
      "source": [
        "sns.histplot(df_day['BLUECARS_RETURNED'], bins=20)"
      ],
      "execution_count": null,
      "outputs": [
        {
          "output_type": "execute_result",
          "data": {
            "text/plain": [
              "<matplotlib.axes._subplots.AxesSubplot at 0x7f50bf5fa0d0>"
            ]
          },
          "metadata": {
            "tags": []
          },
          "execution_count": 94
        },
        {
          "output_type": "display_data",
          "data": {
            "image/png": "[encoded data removed]",
            "text/plain": [
              "<Figure size 432x288 with 1 Axes>"
            ]
          },
          "metadata": {
            "tags": [],
            "needs_background": "light"
          }
        }
      ]
    },
    {
      "cell_type": "code",
      "metadata": {
        "colab": {
          "base_uri": "https://localhost:8080/"
        },
        "id": "_AxFxdfn8koh",
        "outputId": "b65accc8-97b5-4993-b86a-7247130af46c"
      },
      "source": [
        "#check for skewness in Bluecars returned column\n",
        "df_day['BLUECARS_RETURNED'].skew()"
      ],
      "execution_count": null,
      "outputs": [
        {
          "output_type": "execute_result",
          "data": {
            "text/plain": [
              "2.2185017476361586"
            ]
          },
          "metadata": {
            "tags": []
          },
          "execution_count": 131
        }
      ]
    },
    {
      "cell_type": "markdown",
      "metadata": {
        "id": "JK8DFwX78suL"
      },
      "source": [
        "The BLUECARS_RETURNED variable is positively skewed"
      ]
    },
    {
      "cell_type": "code",
      "metadata": {
        "colab": {
          "base_uri": "https://localhost:8080/"
        },
        "id": "VM9L6jlM84P3",
        "outputId": "a6d6ef56-aadf-424f-8220-235b5d3b55a1"
      },
      "source": [
        "#check for kurtosis in column for age\n",
        "df_day['BLUECARS_RETURNED'].kurt()"
      ],
      "execution_count": null,
      "outputs": [
        {
          "output_type": "execute_result",
          "data": {
            "text/plain": [
              "4.738303746534191"
            ]
          },
          "metadata": {
            "tags": []
          },
          "execution_count": 132
        }
      ]
    },
    {
      "cell_type": "code",
      "metadata": {
        "colab": {
          "base_uri": "https://localhost:8080/"
        },
        "id": "8dZ6pl9nLBSO",
        "outputId": "103f28cd-3862-4c4d-fda6-9ce1136bc384"
      },
      "source": [
        "#Check for nomality test using Shapiro-Wilk test\n",
        "# imporing the shapiro function\n",
        "from scipy.stats import shapiro \n",
        "\n",
        "# generating univariate observations\n",
        "data2 = df_day['BLUECARS_RETURNED']\n",
        "\n",
        "# testing for normality\n",
        "stat, p = shapiro(data2)\n",
        "print('Statistics=%.3f, p=%.3f' % (stat, p))\n",
        "\n",
        "# interpreting\n",
        "alpha = 0.05\n",
        "if p > alpha:\n",
        "\tprint('Sample looks Gaussian')\n",
        "else:\n",
        "\tprint('Sample does not look Gaussian')"
      ],
      "execution_count": null,
      "outputs": [
        {
          "output_type": "stream",
          "text": [
            "Statistics=0.666, p=0.000\n",
            "Sample does not look Gaussian\n"
          ],
          "name": "stdout"
        }
      ]
    },
    {
      "cell_type": "code",
      "metadata": {
        "colab": {
          "base_uri": "https://localhost:8080/",
          "height": 817
        },
        "id": "kkAl_959AfhI",
        "outputId": "6a66c98f-9a2d-465a-8131-11d32af86f2d"
      },
      "source": [
        "#univariate distribution of the numerical columns \n",
        "col_names = ['BLUECARS_TAKEN','BLUECARS_RETURNED']\n",
        "\n",
        "fig, ax = plt.subplots(len(col_names), figsize=(16,12))\n",
        "for i, col_val in enumerate(col_names):\n",
        "\n",
        "    sns.distplot(df_day[col_val], hist=True, ax=ax[i])\n",
        "    ax[i].set_title('Freq dist '+col_val, fontsize=10)\n",
        "    ax[i].set_xlabel(col_val, fontsize=8)\n",
        "    ax[i].set_ylabel('Count', fontsize=8)\n",
        "\n",
        "plt.show()"
      ],
      "execution_count": null,
      "outputs": [
        {
          "output_type": "stream",
          "text": [
            "/usr/local/lib/python3.7/dist-packages/seaborn/distributions.py:2557: FutureWarning: `distplot` is a deprecated function and will be removed in a future version. Please adapt your code to use either `displot` (a figure-level function with similar flexibility) or `histplot` (an axes-level function for histograms).\n",
            "  warnings.warn(msg, FutureWarning)\n",
            "/usr/local/lib/python3.7/dist-packages/seaborn/distributions.py:2557: FutureWarning: `distplot` is a deprecated function and will be removed in a future version. Please adapt your code to use either `displot` (a figure-level function with similar flexibility) or `histplot` (an axes-level function for histograms).\n",
            "  warnings.warn(msg, FutureWarning)\n"
          ],
          "name": "stderr"
        },
        {
          "output_type": "display_data",
          "data": {
            "image/png": "[encoded data removed]",
            "text/plain": [
              "<Figure size 1152x864 with 2 Axes>"
            ]
          },
          "metadata": {
            "tags": [],
            "needs_background": "light"
          }
        }
      ]
    },
    {
      "cell_type": "markdown",
      "metadata": {
        "id": "u__vSJoVDjIJ"
      },
      "source": [
        "We can see that both BLUECARS_TAKEN and BLUECARS_RETURNED column are skewed to the right which indicates that most of the values lie in the upper range."
      ]
    },
    {
      "cell_type": "markdown",
      "metadata": {
        "id": "NCO3EOHIMAVT"
      },
      "source": [
        "b. Bivariate Analysis"
      ]
    },
    {
      "cell_type": "code",
      "metadata": {
        "colab": {
          "base_uri": "https://localhost:8080/",
          "height": 725
        },
        "id": "XtoiolH_UQdv",
        "outputId": "ffa20f71-adce-4c1a-8efd-af3333c1534d"
      },
      "source": [
        "# Ploting the bivariate summaries and recording our observations\n",
        "sns.pairplot(df2)\n",
        "plt.show()"
      ],
      "execution_count": null,
      "outputs": [
        {
          "output_type": "display_data",
          "data": {
            "image/png": "[encoded data removed]",
            "text/plain": [
              "<Figure size 720x720 with 20 Axes>"
            ]
          },
          "metadata": {
            "tags": [],
            "needs_background": "light"
          }
        }
      ]
    },
    {
      "cell_type": "code",
      "metadata": {
        "colab": {
          "base_uri": "https://localhost:8080/",
          "height": 410
        },
        "id": "-e1hpw6VCy0J",
        "outputId": "53192553-dc44-46be-c603-2f3dae028ed8"
      },
      "source": [
        "# Determine correlation between numeric features i.e BLUECARS_TAKEN and BLUECARS_RETURNED\n",
        "\n",
        "plt.figure(figsize=(12,10))\n",
        "sns.pairplot(df_day[['BLUECARS_TAKEN', 'BLUECARS_RETURNED']])"
      ],
      "execution_count": null,
      "outputs": [
        {
          "output_type": "execute_result",
          "data": {
            "text/plain": [
              "<seaborn.axisgrid.PairGrid at 0x7f50abfd8e50>"
            ]
          },
          "metadata": {
            "tags": []
          },
          "execution_count": 135
        },
        {
          "output_type": "display_data",
          "data": {
            "text/plain": [
              "<Figure size 864x720 with 0 Axes>"
            ]
          },
          "metadata": {
            "tags": []
          }
        },
        {
          "output_type": "display_data",
          "data": {
            "image/png": "[encoded data removed]",
            "text/plain": [
              "<Figure size 360x360 with 6 Axes>"
            ]
          },
          "metadata": {
            "tags": [],
            "needs_background": "light"
          }
        }
      ]
    },
    {
      "cell_type": "code",
      "metadata": {
        "colab": {
          "base_uri": "https://localhost:8080/"
        },
        "id": "R087N_SQNF99",
        "outputId": "f114fc47-21ef-44ea-80c2-7e3c7fcf8cfb"
      },
      "source": [
        "#what is correlation between BLUECARS_TAKEN and BLUECARS_RETURNED\n",
        "df_day['BLUECARS_TAKEN'].corr(df2['BLUECARS_RETURNED'])"
      ],
      "execution_count": null,
      "outputs": [
        {
          "output_type": "execute_result",
          "data": {
            "text/plain": [
              "0.9990411463006597"
            ]
          },
          "metadata": {
            "tags": []
          },
          "execution_count": 136
        }
      ]
    },
    {
      "cell_type": "markdown",
      "metadata": {
        "id": "BIskjSQINxHB"
      },
      "source": [
        "From the scatter plot and pearsons correlation, there is very strong positive correlation between BLUECARS_TAKEN and BLUECARS_RETURNED"
      ]
    },
    {
      "cell_type": "code",
      "metadata": {
        "colab": {
          "base_uri": "https://localhost:8080/",
          "height": 372
        },
        "id": "gM_iOC47RRHU",
        "outputId": "c0eb6431-5be5-41a6-e754-b2529a316020"
      },
      "source": [
        "sns.heatmap(df2.corr(),annot=True)\n",
        "plt.show()"
      ],
      "execution_count": null,
      "outputs": [
        {
          "output_type": "display_data",
          "data": {
            "image/png": "[encoded data removed]",
            "text/plain": [
              "<Figure size 432x288 with 2 Axes>"
            ]
          },
          "metadata": {
            "tags": [],
            "needs_background": "light"
          }
        }
      ]
    },
    {
      "cell_type": "markdown",
      "metadata": {
        "id": "BMYmnmfiV_Qk"
      },
      "source": [
        "7. Implementing the solution"
      ]
    },
    {
      "cell_type": "markdown",
      "metadata": {
        "id": "ximeviOSODVp"
      },
      "source": [
        "a. Hypothesis Testing\n",
        "\n",
        "Null Hypothesis: The number of Blue Cars Taken is not different that of Blue Cars Returned\n",
        "\n",
        "Alternative Hypothesis:The number of Blue Cars Taken is different that of Blue Cars Returned"
      ]
    },
    {
      "cell_type": "code",
      "metadata": {
        "colab": {
          "base_uri": "https://localhost:8080/",
          "height": 414
        },
        "id": "q7xsBvuRYQMF",
        "outputId": "ecae236f-f6c9-4667-b87a-d4624483812a"
      },
      "source": [
        "#preview the columns\n",
        "df2"
      ],
      "execution_count": 247,
      "outputs": [
        {
          "output_type": "execute_result",
          "data": {
            "text/html": [
              "<div>\n",
              "<style scoped>\n",
              "    .dataframe tbody tr th:only-of-type {\n",
              "        vertical-align: middle;\n",
              "    }\n",
              "\n",
              "    .dataframe tbody tr th {\n",
              "        vertical-align: top;\n",
              "    }\n",
              "\n",
              "    .dataframe thead th {\n",
              "        text-align: right;\n",
              "    }\n",
              "</style>\n",
              "<table border=\"1\" class=\"dataframe\">\n",
              "  <thead>\n",
              "    <tr style=\"text-align: right;\">\n",
              "      <th></th>\n",
              "      <th>POSTAL CODE</th>\n",
              "      <th>DAYOFWEEK</th>\n",
              "      <th>DAY_TYPE</th>\n",
              "      <th>BLUECARS_TAKEN_SUM</th>\n",
              "      <th>BLUECARS_RETURNED_SUM</th>\n",
              "    </tr>\n",
              "  </thead>\n",
              "  <tbody>\n",
              "    <tr>\n",
              "      <th>3899</th>\n",
              "      <td>91330</td>\n",
              "      <td>0</td>\n",
              "      <td>weekday</td>\n",
              "      <td>19</td>\n",
              "      <td>9</td>\n",
              "    </tr>\n",
              "    <tr>\n",
              "      <th>3900</th>\n",
              "      <td>91330</td>\n",
              "      <td>1</td>\n",
              "      <td>weekday</td>\n",
              "      <td>10</td>\n",
              "      <td>10</td>\n",
              "    </tr>\n",
              "    <tr>\n",
              "      <th>3901</th>\n",
              "      <td>91330</td>\n",
              "      <td>2</td>\n",
              "      <td>weekday</td>\n",
              "      <td>11</td>\n",
              "      <td>13</td>\n",
              "    </tr>\n",
              "    <tr>\n",
              "      <th>3903</th>\n",
              "      <td>91330</td>\n",
              "      <td>4</td>\n",
              "      <td>weekday</td>\n",
              "      <td>10</td>\n",
              "      <td>6</td>\n",
              "    </tr>\n",
              "    <tr>\n",
              "      <th>3905</th>\n",
              "      <td>91330</td>\n",
              "      <td>6</td>\n",
              "      <td>weekend</td>\n",
              "      <td>28</td>\n",
              "      <td>17</td>\n",
              "    </tr>\n",
              "    <tr>\n",
              "      <th>...</th>\n",
              "      <td>...</td>\n",
              "      <td>...</td>\n",
              "      <td>...</td>\n",
              "      <td>...</td>\n",
              "      <td>...</td>\n",
              "    </tr>\n",
              "    <tr>\n",
              "      <th>16079</th>\n",
              "      <td>95880</td>\n",
              "      <td>3</td>\n",
              "      <td>weekday</td>\n",
              "      <td>15</td>\n",
              "      <td>13</td>\n",
              "    </tr>\n",
              "    <tr>\n",
              "      <th>16080</th>\n",
              "      <td>95880</td>\n",
              "      <td>4</td>\n",
              "      <td>weekday</td>\n",
              "      <td>15</td>\n",
              "      <td>10</td>\n",
              "    </tr>\n",
              "    <tr>\n",
              "      <th>16081</th>\n",
              "      <td>95880</td>\n",
              "      <td>5</td>\n",
              "      <td>weekend</td>\n",
              "      <td>19</td>\n",
              "      <td>19</td>\n",
              "    </tr>\n",
              "    <tr>\n",
              "      <th>16082</th>\n",
              "      <td>95880</td>\n",
              "      <td>6</td>\n",
              "      <td>weekend</td>\n",
              "      <td>33</td>\n",
              "      <td>35</td>\n",
              "    </tr>\n",
              "    <tr>\n",
              "      <th>16083</th>\n",
              "      <td>95880</td>\n",
              "      <td>0</td>\n",
              "      <td>weekday</td>\n",
              "      <td>11</td>\n",
              "      <td>14</td>\n",
              "    </tr>\n",
              "  </tbody>\n",
              "</table>\n",
              "<p>9783 rows × 5 columns</p>\n",
              "</div>"
            ],
            "text/plain": [
              "       POSTAL CODE  DAYOFWEEK  ... BLUECARS_TAKEN_SUM  BLUECARS_RETURNED_SUM\n",
              "3899         91330          0  ...                 19                      9\n",
              "3900         91330          1  ...                 10                     10\n",
              "3901         91330          2  ...                 11                     13\n",
              "3903         91330          4  ...                 10                      6\n",
              "3905         91330          6  ...                 28                     17\n",
              "...            ...        ...  ...                ...                    ...\n",
              "16079        95880          3  ...                 15                     13\n",
              "16080        95880          4  ...                 15                     10\n",
              "16081        95880          5  ...                 19                     19\n",
              "16082        95880          6  ...                 33                     35\n",
              "16083        95880          0  ...                 11                     14\n",
              "\n",
              "[9783 rows x 5 columns]"
            ]
          },
          "metadata": {
            "tags": []
          },
          "execution_count": 247
        }
      ]
    },
    {
      "cell_type": "code",
      "metadata": {
        "colab": {
          "base_uri": "https://localhost:8080/"
        },
        "id": "HTplT6q6ZQMF",
        "outputId": "c6347a3b-258f-4525-f69a-81fb97bfe183"
      },
      "source": [
        "#check the datatypes\n",
        "df2.dtypes"
      ],
      "execution_count": 216,
      "outputs": [
        {
          "output_type": "execute_result",
          "data": {
            "text/plain": [
              "POSTAL CODE               int64\n",
              "DAYOFWEEK                 int64\n",
              "DAY_TYPE                 object\n",
              "BLUECARS_TAKEN_SUM        int64\n",
              "BLUECARS_RETURNED_SUM     int64\n",
              "dtype: object"
            ]
          },
          "metadata": {
            "tags": []
          },
          "execution_count": 216
        }
      ]
    },
    {
      "cell_type": "code",
      "metadata": {
        "colab": {
          "base_uri": "https://localhost:8080/",
          "height": 538
        },
        "id": "0zN9x3BtZbow",
        "outputId": "6d0687fc-e152-40c6-b8cb-e53b61f8fbed"
      },
      "source": [
        "#Drop day type column\n",
        "\n",
        "df2.drop(['DAY_TYPE'], axis=1, inplace=True)\n",
        "df2"
      ],
      "execution_count": 269,
      "outputs": [
        {
          "output_type": "stream",
          "text": [
            "/usr/local/lib/python3.7/dist-packages/pandas/core/frame.py:4174: SettingWithCopyWarning:\n",
            "\n",
            "\n",
            "A value is trying to be set on a copy of a slice from a DataFrame\n",
            "\n",
            "See the caveats in the documentation: https://pandas.pydata.org/pandas-docs/stable/user_guide/indexing.html#returning-a-view-versus-a-copy\n",
            "\n"
          ],
          "name": "stderr"
        },
        {
          "output_type": "execute_result",
          "data": {
            "text/html": [
              "<div>\n",
              "<style scoped>\n",
              "    .dataframe tbody tr th:only-of-type {\n",
              "        vertical-align: middle;\n",
              "    }\n",
              "\n",
              "    .dataframe tbody tr th {\n",
              "        vertical-align: top;\n",
              "    }\n",
              "\n",
              "    .dataframe thead th {\n",
              "        text-align: right;\n",
              "    }\n",
              "</style>\n",
              "<table border=\"1\" class=\"dataframe\">\n",
              "  <thead>\n",
              "    <tr style=\"text-align: right;\">\n",
              "      <th></th>\n",
              "      <th>POSTAL CODE</th>\n",
              "      <th>DAYOFWEEK</th>\n",
              "      <th>BLUECARS_TAKEN_SUM</th>\n",
              "      <th>BLUECARS_RETURNED_SUM</th>\n",
              "    </tr>\n",
              "  </thead>\n",
              "  <tbody>\n",
              "    <tr>\n",
              "      <th>3899</th>\n",
              "      <td>91330</td>\n",
              "      <td>0</td>\n",
              "      <td>19</td>\n",
              "      <td>9</td>\n",
              "    </tr>\n",
              "    <tr>\n",
              "      <th>3900</th>\n",
              "      <td>91330</td>\n",
              "      <td>1</td>\n",
              "      <td>10</td>\n",
              "      <td>10</td>\n",
              "    </tr>\n",
              "    <tr>\n",
              "      <th>3901</th>\n",
              "      <td>91330</td>\n",
              "      <td>2</td>\n",
              "      <td>11</td>\n",
              "      <td>13</td>\n",
              "    </tr>\n",
              "    <tr>\n",
              "      <th>3903</th>\n",
              "      <td>91330</td>\n",
              "      <td>4</td>\n",
              "      <td>10</td>\n",
              "      <td>6</td>\n",
              "    </tr>\n",
              "    <tr>\n",
              "      <th>3905</th>\n",
              "      <td>91330</td>\n",
              "      <td>6</td>\n",
              "      <td>28</td>\n",
              "      <td>17</td>\n",
              "    </tr>\n",
              "    <tr>\n",
              "      <th>...</th>\n",
              "      <td>...</td>\n",
              "      <td>...</td>\n",
              "      <td>...</td>\n",
              "      <td>...</td>\n",
              "    </tr>\n",
              "    <tr>\n",
              "      <th>16079</th>\n",
              "      <td>95880</td>\n",
              "      <td>3</td>\n",
              "      <td>15</td>\n",
              "      <td>13</td>\n",
              "    </tr>\n",
              "    <tr>\n",
              "      <th>16080</th>\n",
              "      <td>95880</td>\n",
              "      <td>4</td>\n",
              "      <td>15</td>\n",
              "      <td>10</td>\n",
              "    </tr>\n",
              "    <tr>\n",
              "      <th>16081</th>\n",
              "      <td>95880</td>\n",
              "      <td>5</td>\n",
              "      <td>19</td>\n",
              "      <td>19</td>\n",
              "    </tr>\n",
              "    <tr>\n",
              "      <th>16082</th>\n",
              "      <td>95880</td>\n",
              "      <td>6</td>\n",
              "      <td>33</td>\n",
              "      <td>35</td>\n",
              "    </tr>\n",
              "    <tr>\n",
              "      <th>16083</th>\n",
              "      <td>95880</td>\n",
              "      <td>0</td>\n",
              "      <td>11</td>\n",
              "      <td>14</td>\n",
              "    </tr>\n",
              "  </tbody>\n",
              "</table>\n",
              "<p>9783 rows × 4 columns</p>\n",
              "</div>"
            ],
            "text/plain": [
              "       POSTAL CODE  DAYOFWEEK  BLUECARS_TAKEN_SUM  BLUECARS_RETURNED_SUM\n",
              "3899         91330          0                  19                      9\n",
              "3900         91330          1                  10                     10\n",
              "3901         91330          2                  11                     13\n",
              "3903         91330          4                  10                      6\n",
              "3905         91330          6                  28                     17\n",
              "...            ...        ...                 ...                    ...\n",
              "16079        95880          3                  15                     13\n",
              "16080        95880          4                  15                     10\n",
              "16081        95880          5                  19                     19\n",
              "16082        95880          6                  33                     35\n",
              "16083        95880          0                  11                     14\n",
              "\n",
              "[9783 rows x 4 columns]"
            ]
          },
          "metadata": {
            "tags": []
          },
          "execution_count": 269
        }
      ]
    },
    {
      "cell_type": "code",
      "metadata": {
        "id": "nIij9YI5ZthM"
      },
      "source": [
        "# visualization styling code\n",
        "sns.set(rc={'figure.figsize':(13, 7.5)})\n",
        "sns.set_context('talk')"
      ],
      "execution_count": 270,
      "outputs": []
    },
    {
      "cell_type": "code",
      "metadata": {
        "id": "DTJjG_CCaAwG"
      },
      "source": [
        "#Turning off warnings\n",
        "import warnings\n",
        "\n",
        "def fxn():\n",
        "    warnings.warn(\"deprecated\", DeprecationWarning)\n",
        "\n",
        "with warnings.catch_warnings():\n",
        "    warnings.simplefilter(\"ignore\")\n",
        "    fxn()"
      ],
      "execution_count": 271,
      "outputs": []
    },
    {
      "cell_type": "code",
      "metadata": {
        "colab": {
          "base_uri": "https://localhost:8080/"
        },
        "id": "dv4foQPoazpK",
        "outputId": "2eb8e850-5a3e-4862-9461-c0c5906b0d8c"
      },
      "source": [
        "df2.count()"
      ],
      "execution_count": 272,
      "outputs": [
        {
          "output_type": "execute_result",
          "data": {
            "text/plain": [
              "POSTAL CODE              9783\n",
              "DAYOFWEEK                9783\n",
              "BLUECARS_TAKEN_SUM       9783\n",
              "BLUECARS_RETURNED_SUM    9783\n",
              "dtype: int64"
            ]
          },
          "metadata": {
            "tags": []
          },
          "execution_count": 272
        }
      ]
    },
    {
      "cell_type": "code",
      "metadata": {
        "id": "elnyueaxb42B"
      },
      "source": [
        "# Normality test \n",
        "\n",
        "from scipy.stats import shapiro\n",
        "\n",
        "def shapiro_test(df2, col_list):\n",
        "    for x in col_list:\n",
        "        print(x)\n",
        "        data = df2[x]\n",
        "        stat, p = shapiro(data)\n",
        "        print('Statistics=%.3f, p=%.3f' % (stat, p))\n",
        "        # interpret\n",
        "        alpha = 0.05\n",
        "        if p > alpha:\n",
        "            print('Sample looks Gaussian (fail to reject H0)')\n",
        "        else:\n",
        "            print('Sample does not look Gaussian (reject H0)')\n",
        "        print('\\n')"
      ],
      "execution_count": 273,
      "outputs": []
    },
    {
      "cell_type": "code",
      "metadata": {
        "colab": {
          "base_uri": "https://localhost:8080/"
        },
        "id": "k7XBljo7cI8z",
        "outputId": "32160f1d-0c9a-4e63-8957-ef72201127f8"
      },
      "source": [
        "# shapiro Wilk's test\n",
        "shapiro_test(df2, list(df2.columns))"
      ],
      "execution_count": 274,
      "outputs": [
        {
          "output_type": "stream",
          "text": [
            "POSTAL CODE\n",
            "Statistics=0.926, p=0.000\n",
            "Sample does not look Gaussian (reject H0)\n",
            "\n",
            "\n",
            "DAYOFWEEK\n",
            "Statistics=0.905, p=0.000\n",
            "Sample does not look Gaussian (reject H0)\n",
            "\n",
            "\n",
            "BLUECARS_TAKEN_SUM\n",
            "Statistics=0.825, p=0.000\n",
            "Sample does not look Gaussian (reject H0)\n",
            "\n",
            "\n",
            "BLUECARS_RETURNED_SUM\n",
            "Statistics=0.823, p=0.000\n",
            "Sample does not look Gaussian (reject H0)\n",
            "\n",
            "\n"
          ],
          "name": "stdout"
        },
        {
          "output_type": "stream",
          "text": [
            "/usr/local/lib/python3.7/dist-packages/scipy/stats/morestats.py:1676: UserWarning:\n",
            "\n",
            "p-value may not be accurate for N > 5000.\n",
            "\n"
          ],
          "name": "stderr"
        }
      ]
    },
    {
      "cell_type": "code",
      "metadata": {
        "id": "aIuREyf5cbj2",
        "colab": {
          "base_uri": "https://localhost:8080/",
          "height": 16
        },
        "outputId": "1a499280-cb61-407e-879e-361e813cb703"
      },
      "source": [
        "#Import right libraries\n",
        "\n",
        "import scipy.stats as stats\n",
        "from sklearn.cluster import KMeans\n",
        "from sklearn.preprocessing import LabelEncoder\n",
        "from sklearn.preprocessing import MinMaxScaler\n",
        "\n",
        "#Call required libraries\n",
        "\n",
        "# To time processes\n",
        "import time \n",
        "\n",
        "#To suppress warnings\n",
        "import warnings\n",
        "\n",
        "#Data manipulation         \n",
        "import numpy as np           \n",
        "import pandas as pd\n",
        "\n",
        "#For graphics     \n",
        "import matplotlib.pyplot as plt             \n",
        "%matplotlib inline\n",
        "import seaborn as sns\n",
        "sns.set()\n",
        "import plotly.graph_objs as go\n",
        "from plotly.offline import download_plotlyjs, init_notebook_mode, plot, iplot\n",
        "init_notebook_mode(connected=True)\n",
        "\n",
        "# For scaling dataset\n",
        "from sklearn.preprocessing import StandardScaler\n",
        "\n",
        "#For clustering\n",
        "from sklearn.cluster import KMeans, AgglomerativeClustering, AffinityPropagation \n",
        "\n",
        "#For GMM clustering\n",
        "from sklearn.mixture import GaussianMixture\n",
        "\n",
        "# For os related operations\n",
        "import os                    \n",
        "import sys"
      ],
      "execution_count": 306,
      "outputs": [
        {
          "output_type": "display_data",
          "data": {
            "text/html": [
              "        <script type=\"text/javascript\">\n",
              "        window.PlotlyConfig = {MathJaxConfig: 'local'};\n",
              "        if (window.MathJax) {MathJax.Hub.Config({SVG: {font: \"STIX-Web\"}});}\n",
              "        if (typeof require !== 'undefined') {\n",
              "        require.undef(\"plotly\");\n",
              "        requirejs.config({\n",
              "            paths: {\n",
              "                'plotly': ['https://cdn.plot.ly/plotly-latest.min']\n",
              "            }\n",
              "        });\n",
              "        require(['plotly'], function(Plotly) {\n",
              "            window._Plotly = Plotly;\n",
              "        });\n",
              "        }\n",
              "        </script>\n",
              "        "
            ]
          },
          "metadata": {
            "tags": []
          }
        }
      ]
    },
    {
      "cell_type": "markdown",
      "metadata": {
        "id": "m-HcM_xkfTyk"
      },
      "source": [
        "Stratified Sampling"
      ]
    },
    {
      "cell_type": "code",
      "metadata": {
        "colab": {
          "base_uri": "https://localhost:8080/",
          "height": 414
        },
        "id": "BYs1IT2FfRNX",
        "outputId": "6aab2402-c27b-4b35-c237-7286d1590a56"
      },
      "source": [
        "# Stratified sample\n",
        "df3 = df2.groupby('DAYOFWEEK', group_keys=False).apply(lambda grouped_subset : grouped_subset.sample(frac=0.1))\n",
        "df3"
      ],
      "execution_count": 276,
      "outputs": [
        {
          "output_type": "execute_result",
          "data": {
            "text/html": [
              "<div>\n",
              "<style scoped>\n",
              "    .dataframe tbody tr th:only-of-type {\n",
              "        vertical-align: middle;\n",
              "    }\n",
              "\n",
              "    .dataframe tbody tr th {\n",
              "        vertical-align: top;\n",
              "    }\n",
              "\n",
              "    .dataframe thead th {\n",
              "        text-align: right;\n",
              "    }\n",
              "</style>\n",
              "<table border=\"1\" class=\"dataframe\">\n",
              "  <thead>\n",
              "    <tr style=\"text-align: right;\">\n",
              "      <th></th>\n",
              "      <th>POSTAL CODE</th>\n",
              "      <th>DAYOFWEEK</th>\n",
              "      <th>BLUECARS_TAKEN_SUM</th>\n",
              "      <th>BLUECARS_RETURNED_SUM</th>\n",
              "    </tr>\n",
              "  </thead>\n",
              "  <tbody>\n",
              "    <tr>\n",
              "      <th>4928</th>\n",
              "      <td>92120</td>\n",
              "      <td>0</td>\n",
              "      <td>72</td>\n",
              "      <td>74</td>\n",
              "    </tr>\n",
              "    <tr>\n",
              "      <th>4358</th>\n",
              "      <td>91400</td>\n",
              "      <td>0</td>\n",
              "      <td>4</td>\n",
              "      <td>5</td>\n",
              "    </tr>\n",
              "    <tr>\n",
              "      <th>4285</th>\n",
              "      <td>91400</td>\n",
              "      <td>0</td>\n",
              "      <td>7</td>\n",
              "      <td>8</td>\n",
              "    </tr>\n",
              "    <tr>\n",
              "      <th>10889</th>\n",
              "      <td>93230</td>\n",
              "      <td>0</td>\n",
              "      <td>25</td>\n",
              "      <td>25</td>\n",
              "    </tr>\n",
              "    <tr>\n",
              "      <th>6384</th>\n",
              "      <td>92220</td>\n",
              "      <td>0</td>\n",
              "      <td>56</td>\n",
              "      <td>57</td>\n",
              "    </tr>\n",
              "    <tr>\n",
              "      <th>...</th>\n",
              "      <td>...</td>\n",
              "      <td>...</td>\n",
              "      <td>...</td>\n",
              "      <td>...</td>\n",
              "    </tr>\n",
              "    <tr>\n",
              "      <th>15281</th>\n",
              "      <td>94500</td>\n",
              "      <td>6</td>\n",
              "      <td>46</td>\n",
              "      <td>36</td>\n",
              "    </tr>\n",
              "    <tr>\n",
              "      <th>7468</th>\n",
              "      <td>92300</td>\n",
              "      <td>6</td>\n",
              "      <td>170</td>\n",
              "      <td>176</td>\n",
              "    </tr>\n",
              "    <tr>\n",
              "      <th>7014</th>\n",
              "      <td>92260</td>\n",
              "      <td>6</td>\n",
              "      <td>36</td>\n",
              "      <td>27</td>\n",
              "    </tr>\n",
              "    <tr>\n",
              "      <th>13298</th>\n",
              "      <td>94110</td>\n",
              "      <td>6</td>\n",
              "      <td>34</td>\n",
              "      <td>38</td>\n",
              "    </tr>\n",
              "    <tr>\n",
              "      <th>7959</th>\n",
              "      <td>92340</td>\n",
              "      <td>6</td>\n",
              "      <td>20</td>\n",
              "      <td>16</td>\n",
              "    </tr>\n",
              "  </tbody>\n",
              "</table>\n",
              "<p>977 rows × 4 columns</p>\n",
              "</div>"
            ],
            "text/plain": [
              "       POSTAL CODE  DAYOFWEEK  BLUECARS_TAKEN_SUM  BLUECARS_RETURNED_SUM\n",
              "4928         92120          0                  72                     74\n",
              "4358         91400          0                   4                      5\n",
              "4285         91400          0                   7                      8\n",
              "10889        93230          0                  25                     25\n",
              "6384         92220          0                  56                     57\n",
              "...            ...        ...                 ...                    ...\n",
              "15281        94500          6                  46                     36\n",
              "7468         92300          6                 170                    176\n",
              "7014         92260          6                  36                     27\n",
              "13298        94110          6                  34                     38\n",
              "7959         92340          6                  20                     16\n",
              "\n",
              "[977 rows x 4 columns]"
            ]
          },
          "metadata": {
            "tags": []
          },
          "execution_count": 276
        }
      ]
    },
    {
      "cell_type": "code",
      "metadata": {
        "colab": {
          "base_uri": "https://localhost:8080/"
        },
        "id": "edKUPYv7gfUt",
        "outputId": "55082b6c-fb5b-4df8-a820-ef0ab5844b7b"
      },
      "source": [
        "#population mean of Blue cars taken\n",
        "a = df['BlueCars_taken_sum'].mean()\n",
        "a"
      ],
      "execution_count": 277,
      "outputs": [
        {
          "output_type": "execute_result",
          "data": {
            "text/plain": [
              "125.92695057506994"
            ]
          },
          "metadata": {
            "tags": []
          },
          "execution_count": 277
        }
      ]
    },
    {
      "cell_type": "code",
      "metadata": {
        "colab": {
          "base_uri": "https://localhost:8080/"
        },
        "id": "8aPn_sfmhYQI",
        "outputId": "a71ea36f-d138-4ea0-c394-eb6e778a45b3"
      },
      "source": [
        "#population mean of bluecars returned\n",
        "b= df['BlueCars_returned_sum'].mean()\n",
        "b"
      ],
      "execution_count": 278,
      "outputs": [
        {
          "output_type": "execute_result",
          "data": {
            "text/plain": [
              "125.912713708424"
            ]
          },
          "metadata": {
            "tags": []
          },
          "execution_count": 278
        }
      ]
    },
    {
      "cell_type": "code",
      "metadata": {
        "colab": {
          "base_uri": "https://localhost:8080/"
        },
        "id": "Sj4gF6sLhmKS",
        "outputId": "14d83aea-681d-4545-c8d5-18e055a125bf"
      },
      "source": [
        "#sample mean of bluecars taken\n",
        "c = df3['BLUECARS_TAKEN_SUM'].mean()\n",
        "c"
      ],
      "execution_count": 279,
      "outputs": [
        {
          "output_type": "execute_result",
          "data": {
            "text/plain": [
              "48.94779938587513"
            ]
          },
          "metadata": {
            "tags": []
          },
          "execution_count": 279
        }
      ]
    },
    {
      "cell_type": "code",
      "metadata": {
        "colab": {
          "base_uri": "https://localhost:8080/"
        },
        "id": "wmJKNrVmrJRo",
        "outputId": "197f1de6-c800-4f41-8165-d055b34fe28c"
      },
      "source": [
        "#sample mean of bluecars returned\n",
        "d = df3['BLUECARS_RETURNED_SUM'].mean()\n",
        "d"
      ],
      "execution_count": 280,
      "outputs": [
        {
          "output_type": "execute_result",
          "data": {
            "text/plain": [
              "48.922210849539404"
            ]
          },
          "metadata": {
            "tags": []
          },
          "execution_count": 280
        }
      ]
    },
    {
      "cell_type": "code",
      "metadata": {
        "colab": {
          "base_uri": "https://localhost:8080/"
        },
        "id": "WJgSLt3Vri8-",
        "outputId": "31d48c24-ff2b-44dd-d06a-11ec21ce37b0"
      },
      "source": [
        "# sample standard deviation taken\n",
        "e = df3['BLUECARS_TAKEN_SUM'].std()\n",
        "e"
      ],
      "execution_count": 281,
      "outputs": [
        {
          "output_type": "execute_result",
          "data": {
            "text/plain": [
              "45.84860530451868"
            ]
          },
          "metadata": {
            "tags": []
          },
          "execution_count": 281
        }
      ]
    },
    {
      "cell_type": "code",
      "metadata": {
        "colab": {
          "base_uri": "https://localhost:8080/"
        },
        "id": "_njBIUUgr3JD",
        "outputId": "0967359b-6bd5-48cc-804f-bda3fb045598"
      },
      "source": [
        "#sample standard deviation of blue cars returned\n",
        "f = df3['BLUECARS_RETURNED_SUM'].std()\n",
        "f"
      ],
      "execution_count": 282,
      "outputs": [
        {
          "output_type": "execute_result",
          "data": {
            "text/plain": [
              "45.62833288999554"
            ]
          },
          "metadata": {
            "tags": []
          },
          "execution_count": 282
        }
      ]
    },
    {
      "cell_type": "code",
      "metadata": {
        "colab": {
          "base_uri": "https://localhost:8080/"
        },
        "id": "b1nebDa-snTk",
        "outputId": "a8d3e58b-c8ce-4792-f624-cfa26df7938c"
      },
      "source": [
        "# calculating the z-score\n",
        "zscore = (b-a) / e\n",
        "zscore"
      ],
      "execution_count": 283,
      "outputs": [
        {
          "output_type": "execute_result",
          "data": {
            "text/plain": [
              "-0.0003105190779825437"
            ]
          },
          "metadata": {
            "tags": []
          },
          "execution_count": 283
        }
      ]
    },
    {
      "cell_type": "code",
      "metadata": {
        "colab": {
          "base_uri": "https://localhost:8080/"
        },
        "id": "Wg_ASjI-tDbp",
        "outputId": "8b770bc9-0e9a-47f3-88c0-c2ab5443906e"
      },
      "source": [
        "#calculating the p value\n",
        "from scipy.stats import norm\n",
        "p = stats.norm.cdf(zscore)\n",
        "p"
      ],
      "execution_count": 284,
      "outputs": [
        {
          "output_type": "execute_result",
          "data": {
            "text/plain": [
              "0.4998761208129123"
            ]
          },
          "metadata": {
            "tags": []
          },
          "execution_count": 284
        }
      ]
    },
    {
      "cell_type": "code",
      "metadata": {
        "colab": {
          "base_uri": "https://localhost:8080/"
        },
        "id": "iFTuiKy7tPbU",
        "outputId": "6a611f98-99a5-4f3f-93ec-7881c53d60e0"
      },
      "source": [
        "#interpretation of the p value\n",
        "\n",
        "# alpha value is 0.05 or 5%\n",
        "\n",
        "if p < 0.05:   \n",
        "   print(\" we are rejecting null hypothesis\")\n",
        "else:\n",
        "  print(\"we fail to reject null hypothesis\")"
      ],
      "execution_count": 285,
      "outputs": [
        {
          "output_type": "stream",
          "text": [
            "we fail to reject null hypothesis\n"
          ],
          "name": "stdout"
        }
      ]
    },
    {
      "cell_type": "code",
      "metadata": {
        "colab": {
          "base_uri": "https://localhost:8080/"
        },
        "id": "iMb2MBJJtlhi",
        "outputId": "80fcdcb0-ed8b-431b-f3b8-2111c32575cf"
      },
      "source": [
        "# point estimation\n",
        "\n",
        "# population.mean() - sample.mean()\n",
        "\n",
        "# we will use the mean for the blue cars that were taken\n",
        " \n",
        "df['BlueCars_taken_sum'].mean() - df3['BLUECARS_RETURNED_SUM'].mean()"
      ],
      "execution_count": 286,
      "outputs": [
        {
          "output_type": "execute_result",
          "data": {
            "text/plain": [
              "77.00473972553053"
            ]
          },
          "metadata": {
            "tags": []
          },
          "execution_count": 286
        }
      ]
    },
    {
      "cell_type": "code",
      "metadata": {
        "colab": {
          "base_uri": "https://localhost:8080/"
        },
        "id": "biI07BQYuh0C",
        "outputId": "e2c48abd-6fae-4333-d3fa-81ace6d7f1d9"
      },
      "source": [
        "\n",
        "import math\n",
        "sample_mean = df3['BLUECARS_RETURNED_SUM'].mean()\n",
        "\n",
        "# Get the z-critical value\n",
        "z_critical = stats.norm.ppf(q = 0.975)\n",
        "\n",
        "# Check the z-critical value\n",
        "print(\"z-critical value:\")              \n",
        "print(z_critical)\n",
        "\n",
        "# Get the population standard deviation\n",
        "pop_stdev = df['BlueCars_taken_sum'].std() \n",
        "\n",
        "margin_of_error = z_critical * (pop_stdev/math.sqrt(296))\n",
        "\n",
        "confidence_interval = (sample_mean - margin_of_error,\n",
        "                       sample_mean + margin_of_error)  \n",
        "\n",
        "print(\"Confidence interval:\")\n",
        "print(confidence_interval)"
      ],
      "execution_count": 287,
      "outputs": [
        {
          "output_type": "stream",
          "text": [
            "z-critical value:\n",
            "1.959963984540054\n",
            "Confidence interval:\n",
            "(27.798305110196864, 70.04611658888194)\n"
          ],
          "name": "stdout"
        }
      ]
    },
    {
      "cell_type": "markdown",
      "metadata": {
        "id": "nLKt1TaEvJ7S"
      },
      "source": [
        "Clustering Sampling"
      ]
    },
    {
      "cell_type": "code",
      "metadata": {
        "colab": {
          "base_uri": "https://localhost:8080/",
          "height": 285
        },
        "id": "lnwKFBGTvfAD",
        "outputId": "ce3dac65-f5f6-48d8-80e4-e8e2e3524feb"
      },
      "source": [
        "# cluster sampling\n",
        "plt.scatter(df2['BLUECARS_RETURNED_SUM'],df2['BLUECARS_TAKEN_SUM'])\n",
        "plt.show"
      ],
      "execution_count": 288,
      "outputs": [
        {
          "output_type": "execute_result",
          "data": {
            "text/plain": [
              "<function matplotlib.pyplot.show>"
            ]
          },
          "metadata": {
            "tags": []
          },
          "execution_count": 288
        },
        {
          "output_type": "display_data",
          "data": {
            "image/png": "[encoded data removed]",
            "text/plain": [
              "<Figure size 432x288 with 1 Axes>"
            ]
          },
          "metadata": {
            "tags": []
          }
        }
      ]
    },
    {
      "cell_type": "code",
      "metadata": {
        "colab": {
          "base_uri": "https://localhost:8080/",
          "height": 414
        },
        "id": "qsy-B9MDv0pP",
        "outputId": "d19b556a-7845-4ab0-bc54-892e670b723d"
      },
      "source": [
        "#preview column for bluecars taken and blue cars returned\n",
        "x= df2.iloc[:, 2:4]\n",
        "x"
      ],
      "execution_count": 289,
      "outputs": [
        {
          "output_type": "execute_result",
          "data": {
            "text/html": [
              "<div>\n",
              "<style scoped>\n",
              "    .dataframe tbody tr th:only-of-type {\n",
              "        vertical-align: middle;\n",
              "    }\n",
              "\n",
              "    .dataframe tbody tr th {\n",
              "        vertical-align: top;\n",
              "    }\n",
              "\n",
              "    .dataframe thead th {\n",
              "        text-align: right;\n",
              "    }\n",
              "</style>\n",
              "<table border=\"1\" class=\"dataframe\">\n",
              "  <thead>\n",
              "    <tr style=\"text-align: right;\">\n",
              "      <th></th>\n",
              "      <th>BLUECARS_TAKEN_SUM</th>\n",
              "      <th>BLUECARS_RETURNED_SUM</th>\n",
              "    </tr>\n",
              "  </thead>\n",
              "  <tbody>\n",
              "    <tr>\n",
              "      <th>3899</th>\n",
              "      <td>19</td>\n",
              "      <td>9</td>\n",
              "    </tr>\n",
              "    <tr>\n",
              "      <th>3900</th>\n",
              "      <td>10</td>\n",
              "      <td>10</td>\n",
              "    </tr>\n",
              "    <tr>\n",
              "      <th>3901</th>\n",
              "      <td>11</td>\n",
              "      <td>13</td>\n",
              "    </tr>\n",
              "    <tr>\n",
              "      <th>3903</th>\n",
              "      <td>10</td>\n",
              "      <td>6</td>\n",
              "    </tr>\n",
              "    <tr>\n",
              "      <th>3905</th>\n",
              "      <td>28</td>\n",
              "      <td>17</td>\n",
              "    </tr>\n",
              "    <tr>\n",
              "      <th>...</th>\n",
              "      <td>...</td>\n",
              "      <td>...</td>\n",
              "    </tr>\n",
              "    <tr>\n",
              "      <th>16079</th>\n",
              "      <td>15</td>\n",
              "      <td>13</td>\n",
              "    </tr>\n",
              "    <tr>\n",
              "      <th>16080</th>\n",
              "      <td>15</td>\n",
              "      <td>10</td>\n",
              "    </tr>\n",
              "    <tr>\n",
              "      <th>16081</th>\n",
              "      <td>19</td>\n",
              "      <td>19</td>\n",
              "    </tr>\n",
              "    <tr>\n",
              "      <th>16082</th>\n",
              "      <td>33</td>\n",
              "      <td>35</td>\n",
              "    </tr>\n",
              "    <tr>\n",
              "      <th>16083</th>\n",
              "      <td>11</td>\n",
              "      <td>14</td>\n",
              "    </tr>\n",
              "  </tbody>\n",
              "</table>\n",
              "<p>9783 rows × 2 columns</p>\n",
              "</div>"
            ],
            "text/plain": [
              "       BLUECARS_TAKEN_SUM  BLUECARS_RETURNED_SUM\n",
              "3899                   19                      9\n",
              "3900                   10                     10\n",
              "3901                   11                     13\n",
              "3903                   10                      6\n",
              "3905                   28                     17\n",
              "...                   ...                    ...\n",
              "16079                  15                     13\n",
              "16080                  15                     10\n",
              "16081                  19                     19\n",
              "16082                  33                     35\n",
              "16083                  11                     14\n",
              "\n",
              "[9783 rows x 2 columns]"
            ]
          },
          "metadata": {
            "tags": []
          },
          "execution_count": 289
        }
      ]
    },
    {
      "cell_type": "code",
      "metadata": {
        "colab": {
          "base_uri": "https://localhost:8080/"
        },
        "id": "RJPmunc5w2De",
        "outputId": "2bc9cd32-96bc-4fdc-dffc-433e9ba33a3a"
      },
      "source": [
        "kmeans = KMeans(2)\n",
        "kmeans.fit(x)"
      ],
      "execution_count": 290,
      "outputs": [
        {
          "output_type": "execute_result",
          "data": {
            "text/plain": [
              "KMeans(algorithm='auto', copy_x=True, init='k-means++', max_iter=300,\n",
              "       n_clusters=2, n_init=10, n_jobs=None, precompute_distances='auto',\n",
              "       random_state=None, tol=0.0001, verbose=0)"
            ]
          },
          "metadata": {
            "tags": []
          },
          "execution_count": 290
        }
      ]
    },
    {
      "cell_type": "code",
      "metadata": {
        "colab": {
          "base_uri": "https://localhost:8080/"
        },
        "id": "0GHVFCSew80Q",
        "outputId": "512967b6-2818-4fb8-9f88-268aa43d77e2"
      },
      "source": [
        "\n",
        "identified_clusters = kmeans.fit_predict(x)\n",
        "identified_clusters"
      ],
      "execution_count": 291,
      "outputs": [
        {
          "output_type": "execute_result",
          "data": {
            "text/plain": [
              "array([0, 0, 0, ..., 0, 0, 0], dtype=int32)"
            ]
          },
          "metadata": {
            "tags": []
          },
          "execution_count": 291
        }
      ]
    },
    {
      "cell_type": "code",
      "metadata": {
        "colab": {
          "base_uri": "https://localhost:8080/"
        },
        "id": "Ba5AF7dZxBvf",
        "outputId": "d9a18492-0321-46a1-a235-1ac8a77889ed"
      },
      "source": [
        "kmeans.cluster_centers_"
      ],
      "execution_count": 292,
      "outputs": [
        {
          "output_type": "execute_result",
          "data": {
            "text/plain": [
              "array([[ 29.41817236,  29.40023398],\n",
              "       [122.21483254, 122.184689  ]])"
            ]
          },
          "metadata": {
            "tags": []
          },
          "execution_count": 292
        }
      ]
    },
    {
      "cell_type": "code",
      "metadata": {
        "colab": {
          "base_uri": "https://localhost:8080/"
        },
        "id": "k9IXSuk4xG_X",
        "outputId": "960dc63e-fadc-4cdd-c354-e5b8ef74ce9e"
      },
      "source": [
        "kmeans.inertia_"
      ],
      "execution_count": 293,
      "outputs": [
        {
          "output_type": "execute_result",
          "data": {
            "text/plain": [
              "13572281.669321518"
            ]
          },
          "metadata": {
            "tags": []
          },
          "execution_count": 293
        }
      ]
    },
    {
      "cell_type": "code",
      "metadata": {
        "colab": {
          "base_uri": "https://localhost:8080/",
          "height": 414
        },
        "id": "lopfxzD7xNEs",
        "outputId": "40886e55-4852-40a6-b17e-2e5be1f337d1"
      },
      "source": [
        "# Create a copy of the data\n",
        "df3 = df2.copy()\n",
        "\n",
        "# Create a new Series, containing the identified cluster for each observation\n",
        "df3['Cluster'] = identified_clusters\n",
        "\n",
        "# Check the result\n",
        "df3"
      ],
      "execution_count": 294,
      "outputs": [
        {
          "output_type": "execute_result",
          "data": {
            "text/html": [
              "<div>\n",
              "<style scoped>\n",
              "    .dataframe tbody tr th:only-of-type {\n",
              "        vertical-align: middle;\n",
              "    }\n",
              "\n",
              "    .dataframe tbody tr th {\n",
              "        vertical-align: top;\n",
              "    }\n",
              "\n",
              "    .dataframe thead th {\n",
              "        text-align: right;\n",
              "    }\n",
              "</style>\n",
              "<table border=\"1\" class=\"dataframe\">\n",
              "  <thead>\n",
              "    <tr style=\"text-align: right;\">\n",
              "      <th></th>\n",
              "      <th>POSTAL CODE</th>\n",
              "      <th>DAYOFWEEK</th>\n",
              "      <th>BLUECARS_TAKEN_SUM</th>\n",
              "      <th>BLUECARS_RETURNED_SUM</th>\n",
              "      <th>Cluster</th>\n",
              "    </tr>\n",
              "  </thead>\n",
              "  <tbody>\n",
              "    <tr>\n",
              "      <th>3899</th>\n",
              "      <td>91330</td>\n",
              "      <td>0</td>\n",
              "      <td>19</td>\n",
              "      <td>9</td>\n",
              "      <td>0</td>\n",
              "    </tr>\n",
              "    <tr>\n",
              "      <th>3900</th>\n",
              "      <td>91330</td>\n",
              "      <td>1</td>\n",
              "      <td>10</td>\n",
              "      <td>10</td>\n",
              "      <td>0</td>\n",
              "    </tr>\n",
              "    <tr>\n",
              "      <th>3901</th>\n",
              "      <td>91330</td>\n",
              "      <td>2</td>\n",
              "      <td>11</td>\n",
              "      <td>13</td>\n",
              "      <td>0</td>\n",
              "    </tr>\n",
              "    <tr>\n",
              "      <th>3903</th>\n",
              "      <td>91330</td>\n",
              "      <td>4</td>\n",
              "      <td>10</td>\n",
              "      <td>6</td>\n",
              "      <td>0</td>\n",
              "    </tr>\n",
              "    <tr>\n",
              "      <th>3905</th>\n",
              "      <td>91330</td>\n",
              "      <td>6</td>\n",
              "      <td>28</td>\n",
              "      <td>17</td>\n",
              "      <td>0</td>\n",
              "    </tr>\n",
              "    <tr>\n",
              "      <th>...</th>\n",
              "      <td>...</td>\n",
              "      <td>...</td>\n",
              "      <td>...</td>\n",
              "      <td>...</td>\n",
              "      <td>...</td>\n",
              "    </tr>\n",
              "    <tr>\n",
              "      <th>16079</th>\n",
              "      <td>95880</td>\n",
              "      <td>3</td>\n",
              "      <td>15</td>\n",
              "      <td>13</td>\n",
              "      <td>0</td>\n",
              "    </tr>\n",
              "    <tr>\n",
              "      <th>16080</th>\n",
              "      <td>95880</td>\n",
              "      <td>4</td>\n",
              "      <td>15</td>\n",
              "      <td>10</td>\n",
              "      <td>0</td>\n",
              "    </tr>\n",
              "    <tr>\n",
              "      <th>16081</th>\n",
              "      <td>95880</td>\n",
              "      <td>5</td>\n",
              "      <td>19</td>\n",
              "      <td>19</td>\n",
              "      <td>0</td>\n",
              "    </tr>\n",
              "    <tr>\n",
              "      <th>16082</th>\n",
              "      <td>95880</td>\n",
              "      <td>6</td>\n",
              "      <td>33</td>\n",
              "      <td>35</td>\n",
              "      <td>0</td>\n",
              "    </tr>\n",
              "    <tr>\n",
              "      <th>16083</th>\n",
              "      <td>95880</td>\n",
              "      <td>0</td>\n",
              "      <td>11</td>\n",
              "      <td>14</td>\n",
              "      <td>0</td>\n",
              "    </tr>\n",
              "  </tbody>\n",
              "</table>\n",
              "<p>9783 rows × 5 columns</p>\n",
              "</div>"
            ],
            "text/plain": [
              "       POSTAL CODE  DAYOFWEEK  ...  BLUECARS_RETURNED_SUM  Cluster\n",
              "3899         91330          0  ...                      9        0\n",
              "3900         91330          1  ...                     10        0\n",
              "3901         91330          2  ...                     13        0\n",
              "3903         91330          4  ...                      6        0\n",
              "3905         91330          6  ...                     17        0\n",
              "...            ...        ...  ...                    ...      ...\n",
              "16079        95880          3  ...                     13        0\n",
              "16080        95880          4  ...                     10        0\n",
              "16081        95880          5  ...                     19        0\n",
              "16082        95880          6  ...                     35        0\n",
              "16083        95880          0  ...                     14        0\n",
              "\n",
              "[9783 rows x 5 columns]"
            ]
          },
          "metadata": {
            "tags": []
          },
          "execution_count": 294
        }
      ]
    },
    {
      "cell_type": "code",
      "metadata": {
        "colab": {
          "base_uri": "https://localhost:8080/"
        },
        "id": "5zwrfxyaxbvZ",
        "outputId": "2f819e7a-d024-4fcc-c85f-2e6f3af62eab"
      },
      "source": [
        "#Scaling of data\n",
        "ss = StandardScaler()\n",
        "ss.fit_transform(df3)"
      ],
      "execution_count": 295,
      "outputs": [
        {
          "output_type": "execute_result",
          "data": {
            "text/plain": [
              "array([[-1.7533916 , -1.43600185, -0.6531736 , -0.87020858, -0.52122505],\n",
              "       [-1.7533916 , -0.95403375, -0.84755205, -0.84857362, -0.52122505],\n",
              "       [-1.7533916 , -0.47206566, -0.82595445, -0.78366872, -0.52122505],\n",
              "       ...,\n",
              "       [ 2.74183785,  0.97383864, -0.6531736 , -0.65385893, -0.52122505],\n",
              "       [ 2.74183785,  1.45580674, -0.35080711, -0.30769949, -0.52122505],\n",
              "       [ 2.74183785, -1.43600185, -0.82595445, -0.76203376, -0.52122505]])"
            ]
          },
          "metadata": {
            "tags": []
          },
          "execution_count": 295
        }
      ]
    },
    {
      "cell_type": "code",
      "metadata": {
        "id": "1A1QLflWxeZj"
      },
      "source": [
        "\n",
        "def doGMM(X, nclust=2):\n",
        "    model = GaussianMixture(n_components=nclust,init_params='kmeans')\n",
        "    model.fit(X)\n",
        "    clust_labels3 = model.predict(X)\n",
        "    return (clust_labels3)\n",
        "\n",
        "clust_labels3 = doGMM(df3,2)\n",
        "gmm = pd.DataFrame(clust_labels3)\n",
        "df3.insert((df3.shape[1]),'gmm',gmm)"
      ],
      "execution_count": null,
      "outputs": []
    },
    {
      "cell_type": "code",
      "metadata": {
        "colab": {
          "base_uri": "https://localhost:8080/",
          "height": 318
        },
        "id": "q1SM7yfnxsrv",
        "outputId": "2d3366e7-ef7b-43f1-9345-4fc88e35723c"
      },
      "source": [
        "#Plotting the cluster obtained using GMM\n",
        "\n",
        "fig = plt.figure()\n",
        "ax = fig.add_subplot(111)\n",
        "scatter = ax.scatter(df3['BLUECARS_RETURNED_SUM'],df3['BLUECARS_TAKEN_SUM'],c=gmm[0],s=50)\n",
        "ax.set_title('Clustering')\n",
        "ax.set_xlabel('Blue cars returned')\n",
        "ax.set_ylabel('Blue cars taken')\n",
        "plt.colorbar(scatter)"
      ],
      "execution_count": 303,
      "outputs": [
        {
          "output_type": "execute_result",
          "data": {
            "text/plain": [
              "<matplotlib.colorbar.Colorbar at 0x7f50a4cb0bd0>"
            ]
          },
          "metadata": {
            "tags": []
          },
          "execution_count": 303
        },
        {
          "output_type": "display_data",
          "data": {
            "image/png": "[encoded data removed]",
            "text/plain": [
              "<Figure size 432x288 with 2 Axes>"
            ]
          },
          "metadata": {
            "tags": []
          }
        }
      ]
    },
    {
      "cell_type": "markdown",
      "metadata": {
        "id": "uvGxw9v11aQh"
      },
      "source": [
        "*Conclusion*\n",
        "\n",
        "We fail to reject the null hypothesis becase there is no sufficient evidence to prove that the average means of the BLUE CARS TAKEN and BLUE CARS RETURNED are not equal."
      ]
    },
    {
      "cell_type": "markdown",
      "metadata": {
        "id": "gLsNihq10Ona"
      },
      "source": [
        "7.Challenging the solution"
      ]
    },
    {
      "cell_type": "markdown",
      "metadata": {
        "id": "MCs_Nads0aBL"
      },
      "source": [
        "Based on the Analysis more evidence is required so as to accept the claim"
      ]
    },
    {
      "cell_type": "markdown",
      "metadata": {
        "id": "ChK6oUG9srXl"
      },
      "source": [
        "9. Follow up questions\n",
        "\n",
        "At this point, we can refine our question or collect new data, all in an iterative process to get at the truth.\n"
      ]
    },
    {
      "cell_type": "markdown",
      "metadata": {
        "id": "_0n879D_sz4P"
      },
      "source": [
        "a). Did we have the right data?\n",
        "\n",
        "b). Do we need other data to answer our question?\n",
        "\n",
        "c). Did we have the right question?"
      ]
    },
    {
      "cell_type": "markdown",
      "metadata": {
        "id": "_Vzzi9Ba07Jy"
      },
      "source": [
        "9. Recommendation\n",
        "\n",
        "At this point, we can refine our question or collect new data, all in an iterative process to get at the truth.\n"
      ]
    }
  ]
}